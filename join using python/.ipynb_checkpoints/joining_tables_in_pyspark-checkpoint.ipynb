{
 "cells": [
  {
   "cell_type": "code",
   "execution_count": 1,
   "metadata": {},
   "outputs": [],
   "source": [
    "import findspark\n",
    "findspark.init()\n"
   ]
  },
  {
   "cell_type": "code",
   "execution_count": 2,
   "metadata": {},
   "outputs": [],
   "source": [
    "from pyspark.sql import SparkSession\n"
   ]
  },
  {
   "cell_type": "code",
   "execution_count": 3,
   "metadata": {},
   "outputs": [],
   "source": [
    "spark = SparkSession.builder.appName('Test').getOrCreate()"
   ]
  },
  {
   "cell_type": "code",
   "execution_count": 9,
   "metadata": {},
   "outputs": [
    {
     "name": "stdout",
     "output_type": "stream",
     "text": [
      "+----+--------------------+\n",
      "|brid|              brname|\n",
      "+----+--------------------+\n",
      "|1000|      data_analytics|\n",
      "|2000|software_development|\n",
      "|3000|         IT_services|\n",
      "|4000|                 BPO|\n",
      "+----+--------------------+\n",
      "\n"
     ]
    }
   ],
   "source": [
    "#Reading Table 1\n",
    "df_dim=spark.read.csv('it_dim.csv',header=True)\n",
    "df_dim.show()"
   ]
  },
  {
   "cell_type": "code",
   "execution_count": 10,
   "metadata": {},
   "outputs": [
    {
     "name": "stdout",
     "output_type": "stream",
     "text": [
      "+---+-----+-------+----+-----+\n",
      "|eid| name|   city|brid|group|\n",
      "+---+-----+-------+----+-----+\n",
      "|101|  jay| mumbai|1000|   IT|\n",
      "|103|sujay|  delhi|2000|   IT|\n",
      "|108| riya|  kochi|3000|   IT|\n",
      "|107|  saj|maysuru|4000|   IT|\n",
      "|102|rahul| mumbai|1000|   IT|\n",
      "|206|rinku|  delhi|2000|   IT|\n",
      "|501|  ram|  kochi|3000|   IT|\n",
      "|605|vijay|maysuru|4000|   IT|\n",
      "|804|danny| mumbai|4000|   IT|\n",
      "+---+-----+-------+----+-----+\n",
      "\n"
     ]
    }
   ],
   "source": [
    "#Reading Table 2\n",
    "df_fact=spark.read.csv('it_fact.csv',header=True)\n",
    "df_fact.show()"
   ]
  },
  {
   "cell_type": "code",
   "execution_count": 14,
   "metadata": {},
   "outputs": [
    {
     "name": "stdout",
     "output_type": "stream",
     "text": [
      "+---+-----+-------+-----+----+--------------------+\n",
      "|eid| name|   city|group|brid|              brname|\n",
      "+---+-----+-------+-----+----+--------------------+\n",
      "|101|  jay| mumbai|   IT|1000|      data_analytics|\n",
      "|103|sujay|  delhi|   IT|2000|software_development|\n",
      "|108| riya|  kochi|   IT|3000|         IT_services|\n",
      "|107|  saj|maysuru|   IT|4000|                 BPO|\n",
      "|102|rahul| mumbai|   IT|1000|      data_analytics|\n",
      "|206|rinku|  delhi|   IT|2000|software_development|\n",
      "|501|  ram|  kochi|   IT|3000|         IT_services|\n",
      "|605|vijay|maysuru|   IT|4000|                 BPO|\n",
      "|804|danny| mumbai|   IT|4000|                 BPO|\n",
      "+---+-----+-------+-----+----+--------------------+\n",
      "\n"
     ]
    }
   ],
   "source": [
    "# joining table using pysparkSQL\n",
    "df_fact.createOrReplaceTempView('t_fact')\n",
    "df_dim.createOrReplaceTempView('t_dim')\n",
    "df_joined = spark.sql(\"select eid,name,city,group,d.brid,brname from t_fact f, t_dim d where f.brid=d.brid\")\n",
    "df_joined.show()"
   ]
  },
  {
   "cell_type": "code",
   "execution_count": 24,
   "metadata": {},
   "outputs": [
    {
     "name": "stdout",
     "output_type": "stream",
     "text": [
      "+---+-----+-------+----+-----+----+--------------------+\n",
      "|eid| name|   city|brid|group|brid|              brname|\n",
      "+---+-----+-------+----+-----+----+--------------------+\n",
      "|101|  jay| mumbai|1000|   IT|1000|      data_analytics|\n",
      "|103|sujay|  delhi|2000|   IT|2000|software_development|\n",
      "|108| riya|  kochi|3000|   IT|3000|         IT_services|\n",
      "|107|  saj|maysuru|4000|   IT|4000|                 BPO|\n",
      "|102|rahul| mumbai|1000|   IT|1000|      data_analytics|\n",
      "|206|rinku|  delhi|2000|   IT|2000|software_development|\n",
      "|501|  ram|  kochi|3000|   IT|3000|         IT_services|\n",
      "|605|vijay|maysuru|4000|   IT|4000|                 BPO|\n",
      "|804|danny| mumbai|4000|   IT|4000|                 BPO|\n",
      "+---+-----+-------+----+-----+----+--------------------+\n",
      "\n"
     ]
    }
   ],
   "source": [
    "joining using pyspark join function.\n",
    "\n",
    "joined=df_fact.join(df_dim, df_fact.brid == df_dim.brid)\n",
    "joined.show()"
   ]
  },
  {
   "cell_type": "code",
   "execution_count": null,
   "metadata": {},
   "outputs": [],
   "source": []
  }
 ],
 "metadata": {
  "kernelspec": {
   "display_name": "Python 3",
   "language": "python",
   "name": "python3"
  },
  "language_info": {
   "codemirror_mode": {
    "name": "ipython",
    "version": 3
   },
   "file_extension": ".py",
   "mimetype": "text/x-python",
   "name": "python",
   "nbconvert_exporter": "python",
   "pygments_lexer": "ipython3",
   "version": "3.8.3"
  }
 },
 "nbformat": 4,
 "nbformat_minor": 4
}
