{
 "cells": [
  {
   "cell_type": "code",
   "execution_count": 242,
   "id": "173cf43d",
   "metadata": {},
   "outputs": [],
   "source": [
    "import pandas as pd\n",
    "import numpy as np\n",
    "import matplotlib.pyplot as plt\n",
    "import seaborn as sns\n",
    "import os\n",
    "import scipy.stats as s\n",
    "%matplotlib inline\n",
    "\n",
    "from statistics import mean, stdev\n",
    "from math import sqrt"
   ]
  },
  {
   "attachments": {},
   "cell_type": "markdown",
   "id": "19da035e",
   "metadata": {},
   "source": [
    "## Data set 1\n",
    "\n",
    "Description:\n",
    "The data file babies.xlsx contains the information of birth length, weight and head circumference measured at 1 month of age in 256 babies. The babies were recruited during a population study in which one of the inclusion criteria was that the babies had to have been a term birth.\n",
    "\n",
    "Questions:\n",
    "- 1)\tAre males longer than females?\n",
    "- 2)\tAre males heavier than females?\n",
    "- 3)\tDo males have a larger head circumference than females?\n"
   ]
  },
  {
   "cell_type": "code",
   "execution_count": 243,
   "id": "a2805db7",
   "metadata": {},
   "outputs": [
    {
     "data": {
      "text/html": [
       "<div>\n",
       "<style scoped>\n",
       "    .dataframe tbody tr th:only-of-type {\n",
       "        vertical-align: middle;\n",
       "    }\n",
       "\n",
       "    .dataframe tbody tr th {\n",
       "        vertical-align: top;\n",
       "    }\n",
       "\n",
       "    .dataframe thead th {\n",
       "        text-align: right;\n",
       "    }\n",
       "</style>\n",
       "<table border=\"1\" class=\"dataframe\">\n",
       "  <thead>\n",
       "    <tr style=\"text-align: right;\">\n",
       "      <th></th>\n",
       "      <th>id</th>\n",
       "      <th>bweight</th>\n",
       "      <th>blength</th>\n",
       "      <th>bheadcir</th>\n",
       "      <th>gender</th>\n",
       "    </tr>\n",
       "  </thead>\n",
       "  <tbody>\n",
       "    <tr>\n",
       "      <th>0</th>\n",
       "      <td>L002</td>\n",
       "      <td>3.09</td>\n",
       "      <td>50.0</td>\n",
       "      <td>33.5</td>\n",
       "      <td>Male</td>\n",
       "    </tr>\n",
       "    <tr>\n",
       "      <th>1</th>\n",
       "      <td>L003</td>\n",
       "      <td>3.94</td>\n",
       "      <td>50.0</td>\n",
       "      <td>35.0</td>\n",
       "      <td>Female</td>\n",
       "    </tr>\n",
       "    <tr>\n",
       "      <th>2</th>\n",
       "      <td>L006</td>\n",
       "      <td>3.20</td>\n",
       "      <td>49.0</td>\n",
       "      <td>36.0</td>\n",
       "      <td>Male</td>\n",
       "    </tr>\n",
       "    <tr>\n",
       "      <th>3</th>\n",
       "      <td>L007</td>\n",
       "      <td>2.93</td>\n",
       "      <td>51.0</td>\n",
       "      <td>31.5</td>\n",
       "      <td>Female</td>\n",
       "    </tr>\n",
       "    <tr>\n",
       "      <th>4</th>\n",
       "      <td>L017</td>\n",
       "      <td>3.16</td>\n",
       "      <td>49.0</td>\n",
       "      <td>34.0</td>\n",
       "      <td>Male</td>\n",
       "    </tr>\n",
       "  </tbody>\n",
       "</table>\n",
       "</div>"
      ],
      "text/plain": [
       "     id  bweight  blength  bheadcir  gender\n",
       "0  L002     3.09     50.0      33.5    Male\n",
       "1  L003     3.94     50.0      35.0  Female\n",
       "2  L006     3.20     49.0      36.0    Male\n",
       "3  L007     2.93     51.0      31.5  Female\n",
       "4  L017     3.16     49.0      34.0    Male"
      ]
     },
     "execution_count": 243,
     "metadata": {},
     "output_type": "execute_result"
    }
   ],
   "source": [
    "df_babies = pd.read_excel('babies.xlsx')\n",
    "df_babies.head()\n"
   ]
  },
  {
   "cell_type": "markdown",
   "id": "77380540",
   "metadata": {},
   "source": [
    "### Null hypothesis:\n",
    "- There is no difference between males and females in length.\n",
    "- There is no difference between males and females weight.\n",
    "- There is no difference between males and females in head circumference.\n",
    "\n",
    "### Variables:\n",
    "- Independent continuous variables = birth length, birth weight and head circumference\n",
    "- Independent categorical variables = gender "
   ]
  },
  {
   "cell_type": "markdown",
   "id": "000dcb8a",
   "metadata": {},
   "source": [
    "### Descriptive Statistics"
   ]
  },
  {
   "cell_type": "code",
   "execution_count": 244,
   "id": "754a506d",
   "metadata": {},
   "outputs": [
    {
     "name": "stdout",
     "output_type": "stream",
     "text": [
      "Descriptive statistics of Data set 1 \n",
      "\n"
     ]
    },
    {
     "data": {
      "text/html": [
       "<div>\n",
       "<style scoped>\n",
       "    .dataframe tbody tr th:only-of-type {\n",
       "        vertical-align: middle;\n",
       "    }\n",
       "\n",
       "    .dataframe tbody tr th {\n",
       "        vertical-align: top;\n",
       "    }\n",
       "\n",
       "    .dataframe thead th {\n",
       "        text-align: right;\n",
       "    }\n",
       "</style>\n",
       "<table border=\"1\" class=\"dataframe\">\n",
       "  <thead>\n",
       "    <tr style=\"text-align: right;\">\n",
       "      <th></th>\n",
       "      <th>bweight</th>\n",
       "      <th>blength</th>\n",
       "      <th>bheadcir</th>\n",
       "    </tr>\n",
       "  </thead>\n",
       "  <tbody>\n",
       "    <tr>\n",
       "      <th>count</th>\n",
       "      <td>256.000000</td>\n",
       "      <td>256.000000</td>\n",
       "      <td>256.000000</td>\n",
       "    </tr>\n",
       "    <tr>\n",
       "      <th>mean</th>\n",
       "      <td>3.490449</td>\n",
       "      <td>50.303125</td>\n",
       "      <td>34.573047</td>\n",
       "    </tr>\n",
       "    <tr>\n",
       "      <th>std</th>\n",
       "      <td>0.387876</td>\n",
       "      <td>0.820420</td>\n",
       "      <td>1.388812</td>\n",
       "    </tr>\n",
       "    <tr>\n",
       "      <th>min</th>\n",
       "      <td>2.700000</td>\n",
       "      <td>49.000000</td>\n",
       "      <td>29.500000</td>\n",
       "    </tr>\n",
       "    <tr>\n",
       "      <th>25%</th>\n",
       "      <td>3.220000</td>\n",
       "      <td>50.000000</td>\n",
       "      <td>33.900000</td>\n",
       "    </tr>\n",
       "    <tr>\n",
       "      <th>50%</th>\n",
       "      <td>3.475000</td>\n",
       "      <td>50.400000</td>\n",
       "      <td>34.500000</td>\n",
       "    </tr>\n",
       "    <tr>\n",
       "      <th>75%</th>\n",
       "      <td>3.712500</td>\n",
       "      <td>51.000000</td>\n",
       "      <td>35.500000</td>\n",
       "    </tr>\n",
       "    <tr>\n",
       "      <th>max</th>\n",
       "      <td>4.720000</td>\n",
       "      <td>52.000000</td>\n",
       "      <td>38.000000</td>\n",
       "    </tr>\n",
       "  </tbody>\n",
       "</table>\n",
       "</div>"
      ],
      "text/plain": [
       "          bweight     blength    bheadcir\n",
       "count  256.000000  256.000000  256.000000\n",
       "mean     3.490449   50.303125   34.573047\n",
       "std      0.387876    0.820420    1.388812\n",
       "min      2.700000   49.000000   29.500000\n",
       "25%      3.220000   50.000000   33.900000\n",
       "50%      3.475000   50.400000   34.500000\n",
       "75%      3.712500   51.000000   35.500000\n",
       "max      4.720000   52.000000   38.000000"
      ]
     },
     "execution_count": 244,
     "metadata": {},
     "output_type": "execute_result"
    }
   ],
   "source": [
    "df_babies = pd.read_excel('babies.xlsx')\n",
    "print('Descriptive statistics of Data set 1 \\n')\n",
    "df_babies.describe() "
   ]
  },
  {
   "cell_type": "code",
   "execution_count": 245,
   "id": "a1081ed5",
   "metadata": {},
   "outputs": [
    {
     "name": "stdout",
     "output_type": "stream",
     "text": [
      "Descriptive statistics of gender wise \n",
      "\n"
     ]
    },
    {
     "data": {
      "text/html": [
       "<div>\n",
       "<style scoped>\n",
       "    .dataframe tbody tr th:only-of-type {\n",
       "        vertical-align: middle;\n",
       "    }\n",
       "\n",
       "    .dataframe tbody tr th {\n",
       "        vertical-align: top;\n",
       "    }\n",
       "\n",
       "    .dataframe thead tr th {\n",
       "        text-align: left;\n",
       "    }\n",
       "\n",
       "    .dataframe thead tr:last-of-type th {\n",
       "        text-align: right;\n",
       "    }\n",
       "</style>\n",
       "<table border=\"1\" class=\"dataframe\">\n",
       "  <thead>\n",
       "    <tr>\n",
       "      <th></th>\n",
       "      <th colspan=\"8\" halign=\"left\">bweight</th>\n",
       "      <th colspan=\"5\" halign=\"left\">blength</th>\n",
       "      <th colspan=\"8\" halign=\"left\">bheadcir</th>\n",
       "    </tr>\n",
       "    <tr>\n",
       "      <th></th>\n",
       "      <th>count</th>\n",
       "      <th>mean</th>\n",
       "      <th>std</th>\n",
       "      <th>min</th>\n",
       "      <th>25%</th>\n",
       "      <th>50%</th>\n",
       "      <th>75%</th>\n",
       "      <th>max</th>\n",
       "      <th>count</th>\n",
       "      <th>mean</th>\n",
       "      <th>...</th>\n",
       "      <th>75%</th>\n",
       "      <th>max</th>\n",
       "      <th>count</th>\n",
       "      <th>mean</th>\n",
       "      <th>std</th>\n",
       "      <th>min</th>\n",
       "      <th>25%</th>\n",
       "      <th>50%</th>\n",
       "      <th>75%</th>\n",
       "      <th>max</th>\n",
       "    </tr>\n",
       "    <tr>\n",
       "      <th>gender</th>\n",
       "      <th></th>\n",
       "      <th></th>\n",
       "      <th></th>\n",
       "      <th></th>\n",
       "      <th></th>\n",
       "      <th></th>\n",
       "      <th></th>\n",
       "      <th></th>\n",
       "      <th></th>\n",
       "      <th></th>\n",
       "      <th></th>\n",
       "      <th></th>\n",
       "      <th></th>\n",
       "      <th></th>\n",
       "      <th></th>\n",
       "      <th></th>\n",
       "      <th></th>\n",
       "      <th></th>\n",
       "      <th></th>\n",
       "      <th></th>\n",
       "      <th></th>\n",
       "    </tr>\n",
       "  </thead>\n",
       "  <tbody>\n",
       "    <tr>\n",
       "      <th>Female</th>\n",
       "      <td>137.0</td>\n",
       "      <td>3.531642</td>\n",
       "      <td>0.428485</td>\n",
       "      <td>2.71</td>\n",
       "      <td>3.24</td>\n",
       "      <td>3.50</td>\n",
       "      <td>3.79</td>\n",
       "      <td>4.72</td>\n",
       "      <td>137.0</td>\n",
       "      <td>50.277372</td>\n",
       "      <td>...</td>\n",
       "      <td>51.0</td>\n",
       "      <td>52.0</td>\n",
       "      <td>137.0</td>\n",
       "      <td>34.252555</td>\n",
       "      <td>1.383414</td>\n",
       "      <td>29.5</td>\n",
       "      <td>33.5</td>\n",
       "      <td>34.0</td>\n",
       "      <td>35.0</td>\n",
       "      <td>38.0</td>\n",
       "    </tr>\n",
       "    <tr>\n",
       "      <th>Male</th>\n",
       "      <td>119.0</td>\n",
       "      <td>3.443025</td>\n",
       "      <td>0.330568</td>\n",
       "      <td>2.70</td>\n",
       "      <td>3.20</td>\n",
       "      <td>3.43</td>\n",
       "      <td>3.67</td>\n",
       "      <td>4.62</td>\n",
       "      <td>119.0</td>\n",
       "      <td>50.332773</td>\n",
       "      <td>...</td>\n",
       "      <td>51.0</td>\n",
       "      <td>51.5</td>\n",
       "      <td>119.0</td>\n",
       "      <td>34.942017</td>\n",
       "      <td>1.306081</td>\n",
       "      <td>31.5</td>\n",
       "      <td>34.0</td>\n",
       "      <td>35.0</td>\n",
       "      <td>36.0</td>\n",
       "      <td>38.0</td>\n",
       "    </tr>\n",
       "  </tbody>\n",
       "</table>\n",
       "<p>2 rows × 24 columns</p>\n",
       "</div>"
      ],
      "text/plain": [
       "       bweight                                                   blength  \\\n",
       "         count      mean       std   min   25%   50%   75%   max   count   \n",
       "gender                                                                     \n",
       "Female   137.0  3.531642  0.428485  2.71  3.24  3.50  3.79  4.72   137.0   \n",
       "Male     119.0  3.443025  0.330568  2.70  3.20  3.43  3.67  4.62   119.0   \n",
       "\n",
       "                   ...             bheadcir                                   \\\n",
       "             mean  ...   75%   max    count       mean       std   min   25%   \n",
       "gender             ...                                                         \n",
       "Female  50.277372  ...  51.0  52.0    137.0  34.252555  1.383414  29.5  33.5   \n",
       "Male    50.332773  ...  51.0  51.5    119.0  34.942017  1.306081  31.5  34.0   \n",
       "\n",
       "                          \n",
       "         50%   75%   max  \n",
       "gender                    \n",
       "Female  34.0  35.0  38.0  \n",
       "Male    35.0  36.0  38.0  \n",
       "\n",
       "[2 rows x 24 columns]"
      ]
     },
     "execution_count": 245,
     "metadata": {},
     "output_type": "execute_result"
    }
   ],
   "source": [
    "print('Descriptive statistics of gender wise \\n')\n",
    "df_babies.groupby('gender').describe()"
   ]
  },
  {
   "cell_type": "code",
   "execution_count": 246,
   "id": "a1c88a94",
   "metadata": {},
   "outputs": [
    {
     "name": "stdout",
     "output_type": "stream",
     "text": [
      "Skweness \n",
      " [ 0.45126757 -0.21987036 -0.39857876]\n",
      "\n",
      "Kurtosis \n",
      " bweight     0.250735\n",
      "blength    -1.039115\n",
      "bheadcir    0.601527\n",
      "dtype: float64\n"
     ]
    },
    {
     "name": "stderr",
     "output_type": "stream",
     "text": [
      "/var/folders/lk/gzlrlcl57h5grgsjxxtfg_sw0000gn/T/ipykernel_25840/101160902.py:3: FutureWarning: Dropping of nuisance columns in DataFrame reductions (with 'numeric_only=None') is deprecated; in a future version this will raise TypeError.  Select only valid columns before calling the reduction.\n",
      "  print('\\nKurtosis \\n',df_babies.kurtosis())\n"
     ]
    }
   ],
   "source": [
    "sk = s.skew(df_babies[['bweight','blength','bheadcir']], bias=False)\n",
    "print('Skweness \\n',sk)\n",
    "print('\\nKurtosis \\n',df_babies.kurtosis())"
   ]
  },
  {
   "cell_type": "code",
   "execution_count": 247,
   "id": "f7bdc058",
   "metadata": {},
   "outputs": [
    {
     "name": "stdout",
     "output_type": "stream",
     "text": [
      "Histogram for males for lenght\n",
      "(array([18.,  1.,  6.,  0., 30.,  1., 15.,  0., 37., 11.]), array([49.  , 49.25, 49.5 , 49.75, 50.  , 50.25, 50.5 , 50.75, 51.  ,\n",
      "       51.25, 51.5 ]), <BarContainer object of 10 artists>)\n"
     ]
    },
    {
     "data": {
      "image/png": "[encoded data removed]",
      "text/plain": [
       "<Figure size 640x480 with 1 Axes>"
      ]
     },
     "metadata": {},
     "output_type": "display_data"
    }
   ],
   "source": [
    "print('Histogram for males for lenght')\n",
    "print(plt.hist(df_babies[df_babies['gender']=='Male']['blength']))\n"
   ]
  },
  {
   "cell_type": "code",
   "execution_count": 248,
   "id": "9729749f",
   "metadata": {},
   "outputs": [
    {
     "name": "stdout",
     "output_type": "stream",
     "text": [
      "Histogram for females for lenght\n",
      "(array([27.,  9.,  0., 36.,  0.,  6., 48.,  1.,  6.,  4.]), array([49. , 49.3, 49.6, 49.9, 50.2, 50.5, 50.8, 51.1, 51.4, 51.7, 52. ]), <BarContainer object of 10 artists>)\n"
     ]
    },
    {
     "data": {
      "image/png": "[encoded data removed]",
      "text/plain": [
       "<Figure size 640x480 with 1 Axes>"
      ]
     },
     "metadata": {},
     "output_type": "display_data"
    }
   ],
   "source": [
    "print('Histogram for females for lenght')\n",
    "print(plt.hist(df_babies[df_babies['gender']=='Female']['blength']))"
   ]
  },
  {
   "cell_type": "code",
   "execution_count": 249,
   "id": "2e021d35",
   "metadata": {},
   "outputs": [
    {
     "name": "stdout",
     "output_type": "stream",
     "text": [
      "Histogram for males for weight\n",
      "(array([ 5., 11., 23., 25., 23., 19., 10.,  1.,  1.,  1.]), array([2.7  , 2.892, 3.084, 3.276, 3.468, 3.66 , 3.852, 4.044, 4.236,\n",
      "       4.428, 4.62 ]), <BarContainer object of 10 artists>)\n"
     ]
    },
    {
     "data": {
      "image/png": "[encoded data removed]",
      "text/plain": [
       "<Figure size 640x480 with 1 Axes>"
      ]
     },
     "metadata": {},
     "output_type": "display_data"
    }
   ],
   "source": [
    "print('Histogram for males for weight')\n",
    "print(plt.hist(df_babies[df_babies['gender']=='Male']['bweight']))\n"
   ]
  },
  {
   "cell_type": "code",
   "execution_count": 250,
   "id": "ef713472",
   "metadata": {},
   "outputs": [
    {
     "name": "stdout",
     "output_type": "stream",
     "text": [
      "Histogram for males for weight\n",
      "(array([12.,  9., 23., 25., 27., 14., 11., 11.,  2.,  3.]), array([2.71 , 2.911, 3.112, 3.313, 3.514, 3.715, 3.916, 4.117, 4.318,\n",
      "       4.519, 4.72 ]), <BarContainer object of 10 artists>)\n"
     ]
    },
    {
     "data": {
      "image/png": "[encoded data removed]",
      "text/plain": [
       "<Figure size 640x480 with 1 Axes>"
      ]
     },
     "metadata": {},
     "output_type": "display_data"
    }
   ],
   "source": [
    "print('Histogram for males for weight')\n",
    "print(plt.hist(df_babies[df_babies['gender']=='Female']['bweight']))\n"
   ]
  },
  {
   "cell_type": "code",
   "execution_count": 251,
   "id": "d1adc2b1",
   "metadata": {},
   "outputs": [
    {
     "name": "stdout",
     "output_type": "stream",
     "text": [
      "Histogram for males for head circumference\n",
      "(array([ 3.,  3.,  4., 29., 13., 16., 36.,  3.,  8.,  4.]), array([31.5 , 32.15, 32.8 , 33.45, 34.1 , 34.75, 35.4 , 36.05, 36.7 ,\n",
      "       37.35, 38.  ]), <BarContainer object of 10 artists>)\n"
     ]
    },
    {
     "data": {
      "image/png": "[encoded data removed]",
      "text/plain": [
       "<Figure size 640x480 with 1 Axes>"
      ]
     },
     "metadata": {},
     "output_type": "display_data"
    }
   ],
   "source": [
    "print('Histogram for males for head circumference')\n",
    "print(plt.hist(df_babies[df_babies['gender']=='Male']['bheadcir']))\n"
   ]
  },
  {
   "cell_type": "code",
   "execution_count": 252,
   "id": "7ec1212a",
   "metadata": {},
   "outputs": [
    {
     "name": "stdout",
     "output_type": "stream",
     "text": [
      "Histogram for males for for head circumference\n",
      "(array([ 2.,  2.,  7.,  3., 32., 31., 31., 22.,  6.,  1.]), array([29.5 , 30.35, 31.2 , 32.05, 32.9 , 33.75, 34.6 , 35.45, 36.3 ,\n",
      "       37.15, 38.  ]), <BarContainer object of 10 artists>)\n"
     ]
    },
    {
     "data": {
      "image/png": "[encoded data removed]",
      "text/plain": [
       "<Figure size 640x480 with 1 Axes>"
      ]
     },
     "metadata": {},
     "output_type": "display_data"
    }
   ],
   "source": [
    "print('Histogram for males for for head circumference')\n",
    "print(plt.hist(df_babies[df_babies['gender']=='Female']['bheadcir']))\n"
   ]
  },
  {
   "cell_type": "markdown",
   "id": "ab6d5ce2",
   "metadata": {},
   "source": [
    "### Q-Q plots\n"
   ]
  },
  {
   "cell_type": "code",
   "execution_count": 253,
   "id": "2768edf2",
   "metadata": {},
   "outputs": [
    {
     "data": {
      "image/png": "[encoded data removed]",
      "text/plain": [
       "<Figure size 640x480 with 1 Axes>"
      ]
     },
     "metadata": {},
     "output_type": "display_data"
    }
   ],
   "source": [
    "import statsmodels.api as sm\n",
    "import pylab\n",
    "test = df_babies['blength']\n",
    "sm.qqplot(test, line ='45')\n",
    "pylab.show()"
   ]
  },
  {
   "cell_type": "markdown",
   "id": "a400bec4",
   "metadata": {},
   "source": [
    "#### It mean the lenght of stay do not follow the normal distribution"
   ]
  },
  {
   "cell_type": "code",
   "execution_count": 254,
   "id": "b2fadd0e",
   "metadata": {},
   "outputs": [
    {
     "data": {
      "image/png": "[encoded data removed]",
      "text/plain": [
       "<Figure size 640x480 with 1 Axes>"
      ]
     },
     "metadata": {},
     "output_type": "display_data"
    }
   ],
   "source": [
    "\n",
    "import statsmodels.api as sm\n",
    "import pylab\n",
    "\n",
    "test = df_babies['bheadcir']\n",
    "\n",
    "sm.qqplot(test, line ='45')\n",
    "pylab.show()"
   ]
  },
  {
   "cell_type": "markdown",
   "id": "1c758d8c",
   "metadata": {},
   "source": [
    "#### It mean the babies head circumference do not follow the normal distribution"
   ]
  },
  {
   "cell_type": "code",
   "execution_count": 255,
   "id": "7b485848",
   "metadata": {},
   "outputs": [
    {
     "data": {
      "image/png": "[encoded data removed]",
      "text/plain": [
       "<Figure size 640x480 with 1 Axes>"
      ]
     },
     "metadata": {},
     "output_type": "display_data"
    }
   ],
   "source": [
    "\n",
    "import statsmodels.api as sm\n",
    "import pylab\n",
    "\n",
    "test = df_babies['bweight']\n",
    "\n",
    "sm.qqplot(test, line ='45')\n",
    "pylab.show()"
   ]
  },
  {
   "cell_type": "markdown",
   "id": "1274ec50",
   "metadata": {},
   "source": [
    "#### It mean the babies weight do not follow the normal distribution"
   ]
  },
  {
   "cell_type": "markdown",
   "id": "b72f28c2",
   "metadata": {},
   "source": [
    "### Boxplots"
   ]
  },
  {
   "cell_type": "code",
   "execution_count": 256,
   "id": "62e230ed",
   "metadata": {},
   "outputs": [],
   "source": [
    "def plot_boxplot(df, ft):\n",
    "    df.boxplot(column=[ft])\n",
    "    plt.figure(figsize=(4, 5))\n",
    "    plt.show()"
   ]
  },
  {
   "cell_type": "code",
   "execution_count": 257,
   "id": "6ec230ad",
   "metadata": {
    "scrolled": true
   },
   "outputs": [
    {
     "data": {
      "image/png": "[encoded data removed]",
      "text/plain": [
       "<Figure size 640x480 with 1 Axes>"
      ]
     },
     "metadata": {},
     "output_type": "display_data"
    },
    {
     "data": {
      "text/plain": [
       "<Figure size 400x500 with 0 Axes>"
      ]
     },
     "metadata": {},
     "output_type": "display_data"
    }
   ],
   "source": [
    "plot_boxplot(df_babies, 'bheadcir')"
   ]
  },
  {
   "cell_type": "markdown",
   "id": "d19eb229",
   "metadata": {},
   "source": [
    "#### We can see there are few outliers"
   ]
  },
  {
   "cell_type": "code",
   "execution_count": 258,
   "id": "33b003ae",
   "metadata": {
    "scrolled": true
   },
   "outputs": [
    {
     "data": {
      "image/png": "[encoded data removed]",
      "text/plain": [
       "<Figure size 640x480 with 1 Axes>"
      ]
     },
     "metadata": {},
     "output_type": "display_data"
    },
    {
     "data": {
      "text/plain": [
       "<Figure size 400x500 with 0 Axes>"
      ]
     },
     "metadata": {},
     "output_type": "display_data"
    }
   ],
   "source": [
    "plot_boxplot(df_babies, 'bweight')"
   ]
  },
  {
   "cell_type": "markdown",
   "id": "6390adc9",
   "metadata": {},
   "source": [
    "#### We can see there are few outliers"
   ]
  },
  {
   "cell_type": "code",
   "execution_count": 259,
   "id": "a58be485",
   "metadata": {},
   "outputs": [
    {
     "data": {
      "image/png": "[encoded data removed]",
      "text/plain": [
       "<Figure size 640x480 with 1 Axes>"
      ]
     },
     "metadata": {},
     "output_type": "display_data"
    },
    {
     "data": {
      "text/plain": [
       "<Figure size 400x500 with 0 Axes>"
      ]
     },
     "metadata": {},
     "output_type": "display_data"
    }
   ],
   "source": [
    "plot_boxplot(df_babies, 'blength')"
   ]
  },
  {
   "cell_type": "markdown",
   "id": "b8b23e59",
   "metadata": {},
   "source": [
    "#### We can see there are no outliers"
   ]
  },
  {
   "cell_type": "markdown",
   "id": "05c0be46",
   "metadata": {},
   "source": [
    "### Hypothesis Testing\n",
    "\n",
    "As we don't know the standard deviation of the population and also the sample size is more than 30. Therefore, we will use T-test.\n",
    "\n",
    "And as gender independent of each other therefore we will use independent T-Tests\n"
   ]
  },
  {
   "cell_type": "code",
   "execution_count": 260,
   "id": "2eba39d9",
   "metadata": {},
   "outputs": [
    {
     "name": "stdout",
     "output_type": "stream",
     "text": [
      "Ttest_indResult(statistic=0.5381314556693776, pvalue=0.5909575211763944)\n"
     ]
    }
   ],
   "source": [
    "# Testing : There is no difference between males and females in length.\n",
    "var1 = s.ttest_ind(df_babies[df_babies['gender']=='Male']['blength'], \n",
    "                     df_babies[df_babies['gender']=='Female']['blength'])\n",
    "\n",
    "print(var1)"
   ]
  },
  {
   "cell_type": "markdown",
   "id": "0cf84520",
   "metadata": {},
   "source": [
    "#### As the pvalue=0.59095 is not less than 0.05 therefore we can say that result is not statistically significant. Therefore we cannot reject the null hypothesis \"There is no difference between males and females in length.\""
   ]
  },
  {
   "cell_type": "code",
   "execution_count": 261,
   "id": "9bc8d138",
   "metadata": {},
   "outputs": [
    {
     "name": "stdout",
     "output_type": "stream",
     "text": [
      "Ttest_indResult(statistic=-1.8316170301260482, pvalue=0.06817960197726904)\n"
     ]
    }
   ],
   "source": [
    "# There is no difference between males and females weight.\n",
    "var2 = s.ttest_ind(df_babies[df_babies['gender']=='Male']['bweight'], \n",
    "                     df_babies[df_babies['gender']=='Female']['bweight'])\n",
    "\n",
    "print(var2)"
   ]
  },
  {
   "cell_type": "markdown",
   "id": "d94cd3cd",
   "metadata": {},
   "source": [
    "#### As the pvalue=0.06817 is not less than 0.05 therefore we can say that result is not statistically significant. Therefore we cannot reject the null hypothesis \"There is no difference between males and females in weight.\""
   ]
  },
  {
   "cell_type": "code",
   "execution_count": 262,
   "id": "2383d76a",
   "metadata": {},
   "outputs": [
    {
     "name": "stdout",
     "output_type": "stream",
     "text": [
      "Ttest_indResult(statistic=4.081516072946304, pvalue=5.9967043494142434e-05)\n"
     ]
    }
   ],
   "source": [
    "# There is no difference between males and females head circumference.\n",
    "var3 = s.ttest_ind(df_babies[df_babies['gender']=='Male']['bheadcir'], \n",
    "                     df_babies[df_babies['gender']=='Female']['bheadcir'])\n",
    "\n",
    "print(var3)"
   ]
  },
  {
   "cell_type": "markdown",
   "id": "94873590",
   "metadata": {},
   "source": [
    "### Result\n",
    "#### As the pvalue=5.9967043494142434e-05 is less than 0.05 therefore we can say that result is statistically significant. Hence, we can reject the null hypothesis \"There is no difference between males and females in head circumference.\""
   ]
  },
  {
   "cell_type": "markdown",
   "id": "1a4fc248",
   "metadata": {},
   "source": [
    "### Calcualte the Effect Size"
   ]
  },
  {
   "cell_type": "code",
   "execution_count": 263,
   "id": "8bdb9604",
   "metadata": {},
   "outputs": [
    {
     "name": "stdout",
     "output_type": "stream",
     "text": [
      "As the Cohen's D values is 0.23157483668378567 therefore the Effect Size is 'Small'. \n",
      " The effect size is a measure of how important a difference is: large effect sizes mean the difference is important; small effect sizes mean the difference is unimportant.\n"
     ]
    }
   ],
   "source": [
    "c1=df_babies[df_babies['gender']=='Male']['bweight']\n",
    "c0=df_babies[df_babies['gender']=='Female']['bweight']\n",
    "cohens_d = (mean(c0) - mean(c1)) / (sqrt((stdev(c0) ** 2 + stdev(c1) ** 2) / 2))\n",
    "\n",
    "print(f\"As the Cohen's D values is {cohens_d} therefore the Effect Size is 'Small'. \\n The effect size is a measure of how important a difference is: large effect sizes mean the difference is important; small effect sizes mean the difference is unimportant.\")"
   ]
  },
  {
   "attachments": {},
   "cell_type": "markdown",
   "id": "0a0508cf",
   "metadata": {},
   "source": [
    "## Data set 2\n",
    "\n",
    "Description:\n",
    "The spreadsheet surgery.xlsx contains the data for 141 babies who attended hospital for surgery, their length of stay and whether they had an infection during their stay.\n",
    "\n",
    "Question:\n",
    "Do babies who have an infection have a longer stay in the hospital?\n"
   ]
  },
  {
   "cell_type": "code",
   "execution_count": 264,
   "id": "4fdb3f1d",
   "metadata": {},
   "outputs": [
    {
     "data": {
      "text/html": [
       "<div>\n",
       "<style scoped>\n",
       "    .dataframe tbody tr th:only-of-type {\n",
       "        vertical-align: middle;\n",
       "    }\n",
       "\n",
       "    .dataframe tbody tr th {\n",
       "        vertical-align: top;\n",
       "    }\n",
       "\n",
       "    .dataframe thead th {\n",
       "        text-align: right;\n",
       "    }\n",
       "</style>\n",
       "<table border=\"1\" class=\"dataframe\">\n",
       "  <thead>\n",
       "    <tr style=\"text-align: right;\">\n",
       "      <th></th>\n",
       "      <th>id</th>\n",
       "      <th>gender</th>\n",
       "      <th>place</th>\n",
       "      <th>birthwt</th>\n",
       "      <th>gestatio</th>\n",
       "      <th>lengthst</th>\n",
       "      <th>infect</th>\n",
       "      <th>prematur</th>\n",
       "      <th>surgery</th>\n",
       "    </tr>\n",
       "  </thead>\n",
       "  <tbody>\n",
       "    <tr>\n",
       "      <th>0</th>\n",
       "      <td>1</td>\n",
       "      <td>M</td>\n",
       "      <td>R</td>\n",
       "      <td>2020.0</td>\n",
       "      <td>36.0</td>\n",
       "      <td>NaN</td>\n",
       "      <td>no</td>\n",
       "      <td>Term</td>\n",
       "      <td>Other</td>\n",
       "    </tr>\n",
       "    <tr>\n",
       "      <th>1</th>\n",
       "      <td>2</td>\n",
       "      <td>M</td>\n",
       "      <td>R</td>\n",
       "      <td>1850.0</td>\n",
       "      <td>30.0</td>\n",
       "      <td>NaN</td>\n",
       "      <td>no</td>\n",
       "      <td>Term</td>\n",
       "      <td>Abdominal</td>\n",
       "    </tr>\n",
       "    <tr>\n",
       "      <th>2</th>\n",
       "      <td>3</td>\n",
       "      <td>M</td>\n",
       "      <td>L</td>\n",
       "      <td>2540.0</td>\n",
       "      <td>38.0</td>\n",
       "      <td>NaN</td>\n",
       "      <td>yes</td>\n",
       "      <td>Premature</td>\n",
       "      <td>Other</td>\n",
       "    </tr>\n",
       "    <tr>\n",
       "      <th>3</th>\n",
       "      <td>4</td>\n",
       "      <td>M</td>\n",
       "      <td>L</td>\n",
       "      <td>1150.0</td>\n",
       "      <td>31.0</td>\n",
       "      <td>NaN</td>\n",
       "      <td>yes</td>\n",
       "      <td>Premature</td>\n",
       "      <td>Other</td>\n",
       "    </tr>\n",
       "    <tr>\n",
       "      <th>4</th>\n",
       "      <td>5</td>\n",
       "      <td>M</td>\n",
       "      <td>L</td>\n",
       "      <td>3900.0</td>\n",
       "      <td>NaN</td>\n",
       "      <td>NaN</td>\n",
       "      <td>no</td>\n",
       "      <td>Term</td>\n",
       "      <td>Abdominal</td>\n",
       "    </tr>\n",
       "  </tbody>\n",
       "</table>\n",
       "</div>"
      ],
      "text/plain": [
       "   id gender place  birthwt  gestatio  lengthst infect   prematur    surgery\n",
       "0   1      M     R   2020.0      36.0       NaN     no       Term      Other\n",
       "1   2      M     R   1850.0      30.0       NaN     no       Term  Abdominal\n",
       "2   3      M     L   2540.0      38.0       NaN    yes  Premature      Other\n",
       "3   4      M     L   1150.0      31.0       NaN    yes  Premature      Other\n",
       "4   5      M     L   3900.0       NaN       NaN     no       Term  Abdominal"
      ]
     },
     "execution_count": 264,
     "metadata": {},
     "output_type": "execute_result"
    }
   ],
   "source": [
    "df_sur = pd.read_excel('surgery.xlsx')\n",
    "df_sur.head()\n",
    "\n"
   ]
  },
  {
   "cell_type": "markdown",
   "id": "550762e7",
   "metadata": {},
   "source": [
    "### Null hypothesis:\n",
    "- There is no relation between infection and longer stay.\n",
    "\n",
    "### Variables:\n",
    "- Independent continuous variables = birth weight, gestatio and length of stay\n",
    "- Independent categorical variables = gender, place, infection, premature, surgery"
   ]
  },
  {
   "cell_type": "markdown",
   "id": "a9eee113",
   "metadata": {},
   "source": [
    "### Descriptive Statistics"
   ]
  },
  {
   "cell_type": "code",
   "execution_count": 265,
   "id": "0e5eda05",
   "metadata": {},
   "outputs": [
    {
     "name": "stdout",
     "output_type": "stream",
     "text": [
      "Descriptive statistics of Data set 2 \n",
      "\n"
     ]
    },
    {
     "data": {
      "text/html": [
       "<div>\n",
       "<style scoped>\n",
       "    .dataframe tbody tr th:only-of-type {\n",
       "        vertical-align: middle;\n",
       "    }\n",
       "\n",
       "    .dataframe tbody tr th {\n",
       "        vertical-align: top;\n",
       "    }\n",
       "\n",
       "    .dataframe thead th {\n",
       "        text-align: right;\n",
       "    }\n",
       "</style>\n",
       "<table border=\"1\" class=\"dataframe\">\n",
       "  <thead>\n",
       "    <tr style=\"text-align: right;\">\n",
       "      <th></th>\n",
       "      <th>id</th>\n",
       "      <th>birthwt</th>\n",
       "      <th>gestatio</th>\n",
       "      <th>lengthst</th>\n",
       "    </tr>\n",
       "  </thead>\n",
       "  <tbody>\n",
       "    <tr>\n",
       "      <th>count</th>\n",
       "      <td>141.000000</td>\n",
       "      <td>139.000000</td>\n",
       "      <td>133.000000</td>\n",
       "      <td>132.000000</td>\n",
       "    </tr>\n",
       "    <tr>\n",
       "      <th>mean</th>\n",
       "      <td>71.000000</td>\n",
       "      <td>2463.985612</td>\n",
       "      <td>36.563910</td>\n",
       "      <td>38.053030</td>\n",
       "    </tr>\n",
       "    <tr>\n",
       "      <th>std</th>\n",
       "      <td>40.847277</td>\n",
       "      <td>514.631611</td>\n",
       "      <td>2.048108</td>\n",
       "      <td>35.780568</td>\n",
       "    </tr>\n",
       "    <tr>\n",
       "      <th>min</th>\n",
       "      <td>1.000000</td>\n",
       "      <td>1150.000000</td>\n",
       "      <td>30.000000</td>\n",
       "      <td>0.000000</td>\n",
       "    </tr>\n",
       "    <tr>\n",
       "      <th>25%</th>\n",
       "      <td>36.000000</td>\n",
       "      <td>2085.000000</td>\n",
       "      <td>36.000000</td>\n",
       "      <td>20.750000</td>\n",
       "    </tr>\n",
       "    <tr>\n",
       "      <th>50%</th>\n",
       "      <td>71.000000</td>\n",
       "      <td>2425.000000</td>\n",
       "      <td>37.000000</td>\n",
       "      <td>27.000000</td>\n",
       "    </tr>\n",
       "    <tr>\n",
       "      <th>75%</th>\n",
       "      <td>106.000000</td>\n",
       "      <td>2832.500000</td>\n",
       "      <td>38.000000</td>\n",
       "      <td>42.000000</td>\n",
       "    </tr>\n",
       "    <tr>\n",
       "      <th>max</th>\n",
       "      <td>141.000000</td>\n",
       "      <td>3900.000000</td>\n",
       "      <td>41.000000</td>\n",
       "      <td>244.000000</td>\n",
       "    </tr>\n",
       "  </tbody>\n",
       "</table>\n",
       "</div>"
      ],
      "text/plain": [
       "               id      birthwt    gestatio    lengthst\n",
       "count  141.000000   139.000000  133.000000  132.000000\n",
       "mean    71.000000  2463.985612   36.563910   38.053030\n",
       "std     40.847277   514.631611    2.048108   35.780568\n",
       "min      1.000000  1150.000000   30.000000    0.000000\n",
       "25%     36.000000  2085.000000   36.000000   20.750000\n",
       "50%     71.000000  2425.000000   37.000000   27.000000\n",
       "75%    106.000000  2832.500000   38.000000   42.000000\n",
       "max    141.000000  3900.000000   41.000000  244.000000"
      ]
     },
     "execution_count": 265,
     "metadata": {},
     "output_type": "execute_result"
    }
   ],
   "source": [
    "print('Descriptive statistics of Data set 2 \\n')\n",
    "df_sur.describe() "
   ]
  },
  {
   "cell_type": "code",
   "execution_count": 266,
   "id": "0a895fe7",
   "metadata": {
    "scrolled": true
   },
   "outputs": [
    {
     "data": {
      "text/html": [
       "<div>\n",
       "<style scoped>\n",
       "    .dataframe tbody tr th:only-of-type {\n",
       "        vertical-align: middle;\n",
       "    }\n",
       "\n",
       "    .dataframe tbody tr th {\n",
       "        vertical-align: top;\n",
       "    }\n",
       "\n",
       "    .dataframe thead tr th {\n",
       "        text-align: left;\n",
       "    }\n",
       "\n",
       "    .dataframe thead tr:last-of-type th {\n",
       "        text-align: right;\n",
       "    }\n",
       "</style>\n",
       "<table border=\"1\" class=\"dataframe\">\n",
       "  <thead>\n",
       "    <tr>\n",
       "      <th></th>\n",
       "      <th colspan=\"8\" halign=\"left\">id</th>\n",
       "      <th colspan=\"2\" halign=\"left\">birthwt</th>\n",
       "      <th>...</th>\n",
       "      <th colspan=\"2\" halign=\"left\">gestatio</th>\n",
       "      <th colspan=\"8\" halign=\"left\">lengthst</th>\n",
       "    </tr>\n",
       "    <tr>\n",
       "      <th></th>\n",
       "      <th>count</th>\n",
       "      <th>mean</th>\n",
       "      <th>std</th>\n",
       "      <th>min</th>\n",
       "      <th>25%</th>\n",
       "      <th>50%</th>\n",
       "      <th>75%</th>\n",
       "      <th>max</th>\n",
       "      <th>count</th>\n",
       "      <th>mean</th>\n",
       "      <th>...</th>\n",
       "      <th>75%</th>\n",
       "      <th>max</th>\n",
       "      <th>count</th>\n",
       "      <th>mean</th>\n",
       "      <th>std</th>\n",
       "      <th>min</th>\n",
       "      <th>25%</th>\n",
       "      <th>50%</th>\n",
       "      <th>75%</th>\n",
       "      <th>max</th>\n",
       "    </tr>\n",
       "    <tr>\n",
       "      <th>infect</th>\n",
       "      <th></th>\n",
       "      <th></th>\n",
       "      <th></th>\n",
       "      <th></th>\n",
       "      <th></th>\n",
       "      <th></th>\n",
       "      <th></th>\n",
       "      <th></th>\n",
       "      <th></th>\n",
       "      <th></th>\n",
       "      <th></th>\n",
       "      <th></th>\n",
       "      <th></th>\n",
       "      <th></th>\n",
       "      <th></th>\n",
       "      <th></th>\n",
       "      <th></th>\n",
       "      <th></th>\n",
       "      <th></th>\n",
       "      <th></th>\n",
       "      <th></th>\n",
       "    </tr>\n",
       "  </thead>\n",
       "  <tbody>\n",
       "    <tr>\n",
       "      <th>no</th>\n",
       "      <td>85.0</td>\n",
       "      <td>68.341176</td>\n",
       "      <td>42.124971</td>\n",
       "      <td>1.0</td>\n",
       "      <td>32.0</td>\n",
       "      <td>68.0</td>\n",
       "      <td>103.0</td>\n",
       "      <td>141.0</td>\n",
       "      <td>83.0</td>\n",
       "      <td>2482.831325</td>\n",
       "      <td>...</td>\n",
       "      <td>38.0</td>\n",
       "      <td>40.0</td>\n",
       "      <td>80.0</td>\n",
       "      <td>33.200000</td>\n",
       "      <td>33.146548</td>\n",
       "      <td>0.0</td>\n",
       "      <td>19.00</td>\n",
       "      <td>22.5</td>\n",
       "      <td>38.25</td>\n",
       "      <td>244.0</td>\n",
       "    </tr>\n",
       "    <tr>\n",
       "      <th>yes</th>\n",
       "      <td>56.0</td>\n",
       "      <td>75.035714</td>\n",
       "      <td>38.851215</td>\n",
       "      <td>3.0</td>\n",
       "      <td>43.5</td>\n",
       "      <td>82.5</td>\n",
       "      <td>108.5</td>\n",
       "      <td>131.0</td>\n",
       "      <td>56.0</td>\n",
       "      <td>2436.053571</td>\n",
       "      <td>...</td>\n",
       "      <td>38.0</td>\n",
       "      <td>41.0</td>\n",
       "      <td>52.0</td>\n",
       "      <td>45.519231</td>\n",
       "      <td>38.636816</td>\n",
       "      <td>11.0</td>\n",
       "      <td>21.75</td>\n",
       "      <td>37.0</td>\n",
       "      <td>49.25</td>\n",
       "      <td>211.0</td>\n",
       "    </tr>\n",
       "  </tbody>\n",
       "</table>\n",
       "<p>2 rows × 32 columns</p>\n",
       "</div>"
      ],
      "text/plain": [
       "          id                                                      birthwt  \\\n",
       "       count       mean        std  min   25%   50%    75%    max   count   \n",
       "infect                                                                      \n",
       "no      85.0  68.341176  42.124971  1.0  32.0  68.0  103.0  141.0    83.0   \n",
       "yes     56.0  75.035714  38.851215  3.0  43.5  82.5  108.5  131.0    56.0   \n",
       "\n",
       "                     ... gestatio       lengthst                              \\\n",
       "               mean  ...      75%   max    count       mean        std   min   \n",
       "infect               ...                                                       \n",
       "no      2482.831325  ...     38.0  40.0     80.0  33.200000  33.146548   0.0   \n",
       "yes     2436.053571  ...     38.0  41.0     52.0  45.519231  38.636816  11.0   \n",
       "\n",
       "                                   \n",
       "          25%   50%    75%    max  \n",
       "infect                             \n",
       "no      19.00  22.5  38.25  244.0  \n",
       "yes     21.75  37.0  49.25  211.0  \n",
       "\n",
       "[2 rows x 32 columns]"
      ]
     },
     "execution_count": 266,
     "metadata": {},
     "output_type": "execute_result"
    }
   ],
   "source": [
    "df_sur.groupby('infect').describe()"
   ]
  },
  {
   "cell_type": "code",
   "execution_count": 267,
   "id": "86e58eea",
   "metadata": {},
   "outputs": [
    {
     "name": "stdout",
     "output_type": "stream",
     "text": [
      "Skweness \n",
      " 3.2117208963560135\n",
      "\n",
      "Kurtosis \n",
      " id          -1.200000\n",
      "birthwt     -0.323024\n",
      "gestatio     0.861749\n",
      "lengthst    12.674782\n",
      "dtype: float64\n"
     ]
    },
    {
     "name": "stderr",
     "output_type": "stream",
     "text": [
      "/var/folders/lk/gzlrlcl57h5grgsjxxtfg_sw0000gn/T/ipykernel_25840/3183385219.py:3: FutureWarning: Dropping of nuisance columns in DataFrame reductions (with 'numeric_only=None') is deprecated; in a future version this will raise TypeError.  Select only valid columns before calling the reduction.\n",
      "  print('\\nKurtosis \\n',df_sur.kurtosis())\n"
     ]
    }
   ],
   "source": [
    "sk = s.skew(df_sur['lengthst'].dropna(), bias=False)\n",
    "print('Skweness \\n',sk)\n",
    "print('\\nKurtosis \\n',df_sur.kurtosis())"
   ]
  },
  {
   "cell_type": "code",
   "execution_count": 268,
   "id": "c133618a",
   "metadata": {},
   "outputs": [
    {
     "name": "stdout",
     "output_type": "stream",
     "text": [
      "If we just look at the mean we can see the babies with infection on an average stay longer than babies with no infection. However, lets check its statistaical significance\n"
     ]
    }
   ],
   "source": [
    "print('If we just look at the mean we can see the babies with infection on an average stay longer than babies with no infection. However, lets check its statistaical significance')"
   ]
  },
  {
   "cell_type": "code",
   "execution_count": 269,
   "id": "f95c5d8c",
   "metadata": {
    "scrolled": true
   },
   "outputs": [
    {
     "name": "stdout",
     "output_type": "stream",
     "text": [
      "Histogram for babies with no infection for length of stay\n",
      "(array([45., 26.,  4.,  1.,  2.,  1.,  0.,  0.,  0.,  1.]), array([  0. ,  24.4,  48.8,  73.2,  97.6, 122. , 146.4, 170.8, 195.2,\n",
      "       219.6, 244. ]), <BarContainer object of 10 artists>)\n",
      "\n",
      " We can see that the distribution is positively skwed\n"
     ]
    },
    {
     "data": {
      "image/png": "[encoded data removed]",
      "text/plain": [
       "<Figure size 640x480 with 1 Axes>"
      ]
     },
     "metadata": {},
     "output_type": "display_data"
    }
   ],
   "source": [
    "print('Histogram for babies with no infection for length of stay')\n",
    "print(plt.hist(df_sur[df_sur['infect']=='no']['lengthst']))\n",
    "print('\\n We can see that the distribution is positively skwed')"
   ]
  },
  {
   "cell_type": "code",
   "execution_count": 270,
   "id": "870c73a8",
   "metadata": {
    "scrolled": true
   },
   "outputs": [
    {
     "name": "stdout",
     "output_type": "stream",
     "text": [
      "Histogram for babies with infection for length of stay\n",
      "(array([23., 19.,  3.,  2.,  1.,  1.,  1.,  1.,  0.,  1.]), array([ 11.,  31.,  51.,  71.,  91., 111., 131., 151., 171., 191., 211.]), <BarContainer object of 10 artists>)\n",
      "\n",
      " We can see that the distribution is positively skwed\n"
     ]
    },
    {
     "data": {
      "image/png": "[encoded data removed]",
      "text/plain": [
       "<Figure size 640x480 with 1 Axes>"
      ]
     },
     "metadata": {},
     "output_type": "display_data"
    }
   ],
   "source": [
    "print('Histogram for babies with infection for length of stay')\n",
    "print(plt.hist(df_sur[df_sur['infect']=='yes']['lengthst']))\n",
    "print('\\n We can see that the distribution is positively skwed')"
   ]
  },
  {
   "cell_type": "markdown",
   "id": "37b70fc2",
   "metadata": {},
   "source": [
    "#### Count plots"
   ]
  },
  {
   "cell_type": "code",
   "execution_count": 271,
   "id": "051f061a",
   "metadata": {},
   "outputs": [
    {
     "data": {
      "text/plain": [
       "<AxesSubplot:xlabel='infect', ylabel='count'>"
      ]
     },
     "execution_count": 271,
     "metadata": {},
     "output_type": "execute_result"
    },
    {
     "data": {
      "image/png": "[encoded data removed]",
      "text/plain": [
       "<Figure size 640x480 with 1 Axes>"
      ]
     },
     "metadata": {},
     "output_type": "display_data"
    }
   ],
   "source": [
    "sns.countplot(x='infect',data=df_sur,palette='rainbow')"
   ]
  },
  {
   "cell_type": "markdown",
   "id": "e878681a",
   "metadata": {},
   "source": [
    "#### Q-Q plots\n"
   ]
  },
  {
   "cell_type": "code",
   "execution_count": 272,
   "id": "d9490bb7",
   "metadata": {},
   "outputs": [
    {
     "data": {
      "image/png": "[encoded data removed]",
      "text/plain": [
       "<Figure size 640x480 with 1 Axes>"
      ]
     },
     "metadata": {},
     "output_type": "display_data"
    }
   ],
   "source": [
    "\n",
    "import statsmodels.api as sm\n",
    "import pylab\n",
    "\n",
    "test = df_sur[df_sur['infect']=='yes']['lengthst']\n",
    "\n",
    "sm.qqplot(test, line ='45')\n",
    "pylab.show()"
   ]
  },
  {
   "cell_type": "markdown",
   "id": "892b221b",
   "metadata": {},
   "source": [
    "#### It mean the lenght of the stay for babies having infection do not follow the normal distribution"
   ]
  },
  {
   "cell_type": "code",
   "execution_count": 273,
   "id": "572a196f",
   "metadata": {},
   "outputs": [
    {
     "data": {
      "image/png": "[encoded data removed]",
      "text/plain": [
       "<Figure size 640x480 with 1 Axes>"
      ]
     },
     "metadata": {},
     "output_type": "display_data"
    }
   ],
   "source": [
    "\n",
    "import statsmodels.api as sm\n",
    "import pylab\n",
    "\n",
    "test = df_sur[df_sur['infect']=='no']['lengthst']\n",
    "\n",
    "sm.qqplot(test, line ='45')\n",
    "pylab.show()"
   ]
  },
  {
   "cell_type": "markdown",
   "id": "9b423b9f",
   "metadata": {},
   "source": [
    "#### It mean the lenght of the stay for babies having no infection do not follow the normal distribution"
   ]
  },
  {
   "cell_type": "markdown",
   "id": "87a15f79",
   "metadata": {},
   "source": [
    "### Hypothesis Testing\n",
    "\n",
    "As we don't know the standard deviation of the population and also the sample size is more than 30. Therefore, we will use T-test.\n",
    "\n",
    "And as infection is independent of each other therefore we will use independent T-Tests\n"
   ]
  },
  {
   "cell_type": "code",
   "execution_count": 274,
   "id": "a5a5ba6e",
   "metadata": {},
   "outputs": [
    {
     "name": "stdout",
     "output_type": "stream",
     "text": [
      "Ttest_indResult(statistic=1.9535059124150023, pvalue=0.052907387292825195)\n"
     ]
    }
   ],
   "source": [
    "var4 = s.ttest_ind(df_sur[df_sur['infect']=='yes']['lengthst'].dropna(), \n",
    "                     df_sur[df_sur['infect']=='no']['lengthst'].dropna())\n",
    "\n",
    "print(var4)"
   ]
  },
  {
   "cell_type": "markdown",
   "id": "54ebddae",
   "metadata": {},
   "source": [
    "### Result\n",
    "#### As the pvalue=0.05290 is not less than 0.05 therefore we can say that result is not statistically significant. Therefore we cannot reject the null hypothesis \"There is no relation between infection and longer stay.\""
   ]
  },
  {
   "cell_type": "code",
   "execution_count": null,
   "id": "dd688f95",
   "metadata": {},
   "outputs": [],
   "source": []
  },
  {
   "attachments": {},
   "cell_type": "markdown",
   "id": "34622c54",
   "metadata": {},
   "source": [
    "## Data set 3\n",
    "\n",
    "Description:\n",
    "The spreadsheet weights.xlsx contains the data from a population sample of 550 term babies who had their weight recorded at 1-month age. The babies also had their parity recorded, that is, their birth order in their family.\n",
    "\n",
    "Question:\n",
    "Are the weights of babies related to their parities?"
   ]
  },
  {
   "cell_type": "code",
   "execution_count": 275,
   "id": "07551ae8",
   "metadata": {},
   "outputs": [
    {
     "data": {
      "text/html": [
       "<div>\n",
       "<style scoped>\n",
       "    .dataframe tbody tr th:only-of-type {\n",
       "        vertical-align: middle;\n",
       "    }\n",
       "\n",
       "    .dataframe tbody tr th {\n",
       "        vertical-align: top;\n",
       "    }\n",
       "\n",
       "    .dataframe thead th {\n",
       "        text-align: right;\n",
       "    }\n",
       "</style>\n",
       "<table border=\"1\" class=\"dataframe\">\n",
       "  <thead>\n",
       "    <tr style=\"text-align: right;\">\n",
       "      <th></th>\n",
       "      <th>id</th>\n",
       "      <th>weight</th>\n",
       "      <th>length</th>\n",
       "      <th>headc</th>\n",
       "      <th>gender</th>\n",
       "      <th>education</th>\n",
       "      <th>parity</th>\n",
       "    </tr>\n",
       "  </thead>\n",
       "  <tbody>\n",
       "    <tr>\n",
       "      <th>0</th>\n",
       "      <td>L001</td>\n",
       "      <td>3.95</td>\n",
       "      <td>55.5</td>\n",
       "      <td>37.5</td>\n",
       "      <td>female</td>\n",
       "      <td>tertiary</td>\n",
       "      <td>Three or more siblings</td>\n",
       "    </tr>\n",
       "    <tr>\n",
       "      <th>1</th>\n",
       "      <td>L003</td>\n",
       "      <td>4.63</td>\n",
       "      <td>57.0</td>\n",
       "      <td>38.5</td>\n",
       "      <td>female</td>\n",
       "      <td>tertiary</td>\n",
       "      <td>Singleton</td>\n",
       "    </tr>\n",
       "    <tr>\n",
       "      <th>2</th>\n",
       "      <td>L004</td>\n",
       "      <td>4.75</td>\n",
       "      <td>56.0</td>\n",
       "      <td>38.5</td>\n",
       "      <td>male</td>\n",
       "      <td>twelveYear</td>\n",
       "      <td>Two siblings</td>\n",
       "    </tr>\n",
       "    <tr>\n",
       "      <th>3</th>\n",
       "      <td>L005</td>\n",
       "      <td>3.92</td>\n",
       "      <td>56.0</td>\n",
       "      <td>39.0</td>\n",
       "      <td>male</td>\n",
       "      <td>tertiary</td>\n",
       "      <td>One sibling</td>\n",
       "    </tr>\n",
       "    <tr>\n",
       "      <th>4</th>\n",
       "      <td>L006</td>\n",
       "      <td>4.56</td>\n",
       "      <td>55.0</td>\n",
       "      <td>39.5</td>\n",
       "      <td>male</td>\n",
       "      <td>tenYear</td>\n",
       "      <td>Two siblings</td>\n",
       "    </tr>\n",
       "  </tbody>\n",
       "</table>\n",
       "</div>"
      ],
      "text/plain": [
       "     id  weight  length  headc  gender   education                  parity\n",
       "0  L001    3.95    55.5   37.5  female    tertiary  Three or more siblings\n",
       "1  L003    4.63    57.0   38.5  female    tertiary               Singleton\n",
       "2  L004    4.75    56.0   38.5    male  twelveYear            Two siblings\n",
       "3  L005    3.92    56.0   39.0    male    tertiary             One sibling\n",
       "4  L006    4.56    55.0   39.5    male     tenYear            Two siblings"
      ]
     },
     "execution_count": 275,
     "metadata": {},
     "output_type": "execute_result"
    }
   ],
   "source": [
    "df_wt = pd.read_excel('weights.xlsx')\n",
    "df_wt.head()\n",
    "\n"
   ]
  },
  {
   "cell_type": "markdown",
   "id": "df199f10",
   "metadata": {},
   "source": [
    "### Null hypothesis:\n",
    "- The weights of babies are not related to their parities.\n",
    "\n",
    "### Variables:\n",
    "- Independent continuous variables = birth weight, length, and headc.\n",
    "- Independent categorical variables = gender, education, and parity."
   ]
  },
  {
   "cell_type": "markdown",
   "id": "f67b649c",
   "metadata": {},
   "source": [
    "### Descriptive Statistics"
   ]
  },
  {
   "cell_type": "code",
   "execution_count": 276,
   "id": "5800626a",
   "metadata": {},
   "outputs": [
    {
     "data": {
      "text/html": [
       "<div>\n",
       "<style scoped>\n",
       "    .dataframe tbody tr th:only-of-type {\n",
       "        vertical-align: middle;\n",
       "    }\n",
       "\n",
       "    .dataframe tbody tr th {\n",
       "        vertical-align: top;\n",
       "    }\n",
       "\n",
       "    .dataframe thead th {\n",
       "        text-align: right;\n",
       "    }\n",
       "</style>\n",
       "<table border=\"1\" class=\"dataframe\">\n",
       "  <thead>\n",
       "    <tr style=\"text-align: right;\">\n",
       "      <th></th>\n",
       "      <th>weight</th>\n",
       "      <th>length</th>\n",
       "      <th>headc</th>\n",
       "    </tr>\n",
       "  </thead>\n",
       "  <tbody>\n",
       "    <tr>\n",
       "      <th>count</th>\n",
       "      <td>550.000000</td>\n",
       "      <td>550.000000</td>\n",
       "      <td>550.000000</td>\n",
       "    </tr>\n",
       "    <tr>\n",
       "      <th>mean</th>\n",
       "      <td>4.366418</td>\n",
       "      <td>54.840909</td>\n",
       "      <td>37.895273</td>\n",
       "    </tr>\n",
       "    <tr>\n",
       "      <th>std</th>\n",
       "      <td>0.601822</td>\n",
       "      <td>2.406908</td>\n",
       "      <td>1.361564</td>\n",
       "    </tr>\n",
       "    <tr>\n",
       "      <th>min</th>\n",
       "      <td>2.920000</td>\n",
       "      <td>48.000000</td>\n",
       "      <td>34.000000</td>\n",
       "    </tr>\n",
       "    <tr>\n",
       "      <th>25%</th>\n",
       "      <td>3.950000</td>\n",
       "      <td>53.000000</td>\n",
       "      <td>37.000000</td>\n",
       "    </tr>\n",
       "    <tr>\n",
       "      <th>50%</th>\n",
       "      <td>4.330000</td>\n",
       "      <td>55.000000</td>\n",
       "      <td>38.000000</td>\n",
       "    </tr>\n",
       "    <tr>\n",
       "      <th>75%</th>\n",
       "      <td>4.770000</td>\n",
       "      <td>56.500000</td>\n",
       "      <td>39.000000</td>\n",
       "    </tr>\n",
       "    <tr>\n",
       "      <th>max</th>\n",
       "      <td>6.490000</td>\n",
       "      <td>62.000000</td>\n",
       "      <td>41.200000</td>\n",
       "    </tr>\n",
       "  </tbody>\n",
       "</table>\n",
       "</div>"
      ],
      "text/plain": [
       "           weight      length       headc\n",
       "count  550.000000  550.000000  550.000000\n",
       "mean     4.366418   54.840909   37.895273\n",
       "std      0.601822    2.406908    1.361564\n",
       "min      2.920000   48.000000   34.000000\n",
       "25%      3.950000   53.000000   37.000000\n",
       "50%      4.330000   55.000000   38.000000\n",
       "75%      4.770000   56.500000   39.000000\n",
       "max      6.490000   62.000000   41.200000"
      ]
     },
     "execution_count": 276,
     "metadata": {},
     "output_type": "execute_result"
    }
   ],
   "source": [
    "df_wt.describe()"
   ]
  },
  {
   "cell_type": "code",
   "execution_count": 277,
   "id": "ec58d3bb",
   "metadata": {
    "scrolled": true
   },
   "outputs": [
    {
     "name": "stdout",
     "output_type": "stream",
     "text": [
      "Skweness \n",
      " 0.20089736916692574\n",
      "\n",
      "Kurtosis \n",
      " weight   -0.145887\n",
      "length   -0.140907\n",
      "headc    -0.205605\n",
      "dtype: float64\n"
     ]
    },
    {
     "name": "stderr",
     "output_type": "stream",
     "text": [
      "/var/folders/lk/gzlrlcl57h5grgsjxxtfg_sw0000gn/T/ipykernel_25840/605264467.py:3: FutureWarning: Dropping of nuisance columns in DataFrame reductions (with 'numeric_only=None') is deprecated; in a future version this will raise TypeError.  Select only valid columns before calling the reduction.\n",
      "  print('\\nKurtosis \\n',df_wt.kurtosis())\n"
     ]
    }
   ],
   "source": [
    "sk = s.skew(df_wt['weight'], bias=False)\n",
    "print('Skweness \\n',sk)\n",
    "print('\\nKurtosis \\n',df_wt.kurtosis())"
   ]
  },
  {
   "cell_type": "code",
   "execution_count": 278,
   "id": "bce42600",
   "metadata": {},
   "outputs": [
    {
     "data": {
      "text/plain": [
       "parity\n",
       "One sibling               4.388698\n",
       "Singleton                 4.258944\n",
       "Three or more siblings    4.434194\n",
       "Two siblings              4.460086\n",
       "Name: mean, dtype: float64"
      ]
     },
     "execution_count": 278,
     "metadata": {},
     "output_type": "execute_result"
    }
   ],
   "source": [
    "df_wt.groupby('parity').describe()['weight']['mean']"
   ]
  },
  {
   "cell_type": "code",
   "execution_count": 279,
   "id": "80604fd2",
   "metadata": {
    "scrolled": true
   },
   "outputs": [
    {
     "data": {
      "text/plain": [
       "Text(0, 0.5, 'Mean')"
      ]
     },
     "execution_count": 279,
     "metadata": {},
     "output_type": "execute_result"
    },
    {
     "data": {
      "image/png": "[encoded data removed]",
      "text/plain": [
       "<Figure size 640x480 with 1 Axes>"
      ]
     },
     "metadata": {},
     "output_type": "display_data"
    }
   ],
   "source": [
    "plt.bar(['One sibling','Singleton ','Three or more siblings ','Two siblings  '], df_wt.groupby('parity').describe()['weight']['mean'] )\n",
    "plt.ylabel('Mean')"
   ]
  },
  {
   "cell_type": "code",
   "execution_count": 280,
   "id": "19dda0e6",
   "metadata": {},
   "outputs": [
    {
     "data": {
      "text/plain": [
       "Text(0, 0.5, 'Mean')"
      ]
     },
     "execution_count": 280,
     "metadata": {},
     "output_type": "execute_result"
    },
    {
     "data": {
      "image/png": "[encoded data removed]",
      "text/plain": [
       "<Figure size 640x480 with 1 Axes>"
      ]
     },
     "metadata": {},
     "output_type": "display_data"
    }
   ],
   "source": [
    "plt.plot(['One sibling','Singleton ','Three or more siblings ','Two siblings  '], df_wt.groupby('parity').describe()['weight']['mean'])\n",
    "\n",
    "plt.ylabel('Mean')"
   ]
  },
  {
   "cell_type": "code",
   "execution_count": 281,
   "id": "3f5d6371",
   "metadata": {},
   "outputs": [
    {
     "data": {
      "text/plain": [
       "array(['Three or more siblings', 'Singleton', 'Two siblings',\n",
       "       'One sibling'], dtype=object)"
      ]
     },
     "execution_count": 281,
     "metadata": {},
     "output_type": "execute_result"
    }
   ],
   "source": [
    "df_wt['parity'].unique()"
   ]
  },
  {
   "cell_type": "markdown",
   "id": "d56db916",
   "metadata": {},
   "source": [
    "### Hypothesis Testing\n",
    "\n",
    "As we more than 2 groups. Therefore, we will use One-way ANOVA.\n"
   ]
  },
  {
   "cell_type": "code",
   "execution_count": 282,
   "id": "ec053423",
   "metadata": {},
   "outputs": [
    {
     "name": "stdout",
     "output_type": "stream",
     "text": [
      "F_onewayResult(statistic=3.239101639759226, pvalue=0.021881235698982367)\n"
     ]
    }
   ],
   "source": [
    "anova1 = s.f_oneway(\n",
    "                  df_wt[df_wt['parity']=='Three or more siblings']['weight'], \n",
    "                  df_wt[df_wt['parity']=='Singleton']['weight'], \n",
    "                  df_wt[df_wt['parity']=='Two siblings']['weight'], \n",
    "                  df_wt[df_wt['parity']=='One sibling']['weight'])\n",
    "\n",
    "print(anova1)"
   ]
  },
  {
   "cell_type": "markdown",
   "id": "7e6ed158",
   "metadata": {},
   "source": [
    "### Result\n",
    "#### As the pvalue=0.021881 is  less than 0.05 therefore we can say that result is statistically significant. Therefore we can reject the null hypothesis \"The weights of babies are not related to their parities.\""
   ]
  },
  {
   "cell_type": "markdown",
   "id": "30b75228",
   "metadata": {},
   "source": [
    "## Data set 4\n",
    "Description:\n",
    "The spreadsheet HD_Genes.xlsx contains the data from a population sample of 20 tissue samples of Controls and Huntington's disease (HD). They correspond to the expression level of 10 genes. Compare the expression level of each gene and see if it is dysregulated significantly (UP/Down regulated) in the pathological condition.\n",
    "Bonus: Can you convert the expression values in the log scale before you start the analysis?\n",
    "\n",
    "Question:\n",
    "Are the genes significantly dysregulated in HD?\n"
   ]
  },
  {
   "cell_type": "code",
   "execution_count": 283,
   "id": "56225548",
   "metadata": {},
   "outputs": [
    {
     "data": {
      "text/html": [
       "<div>\n",
       "<style scoped>\n",
       "    .dataframe tbody tr th:only-of-type {\n",
       "        vertical-align: middle;\n",
       "    }\n",
       "\n",
       "    .dataframe tbody tr th {\n",
       "        vertical-align: top;\n",
       "    }\n",
       "\n",
       "    .dataframe thead th {\n",
       "        text-align: right;\n",
       "    }\n",
       "</style>\n",
       "<table border=\"1\" class=\"dataframe\">\n",
       "  <thead>\n",
       "    <tr style=\"text-align: right;\">\n",
       "      <th></th>\n",
       "      <th>Control</th>\n",
       "      <th>THBS3</th>\n",
       "      <th>SLC38A2</th>\n",
       "      <th>XG</th>\n",
       "      <th>DDR1</th>\n",
       "      <th>CCNB1</th>\n",
       "      <th>ZNF496</th>\n",
       "      <th>CRYM</th>\n",
       "      <th>SCIN</th>\n",
       "      <th>APOH</th>\n",
       "      <th>SMAD7</th>\n",
       "      <th>Gender</th>\n",
       "    </tr>\n",
       "  </thead>\n",
       "  <tbody>\n",
       "    <tr>\n",
       "      <th>0</th>\n",
       "      <td>1</td>\n",
       "      <td>368.721</td>\n",
       "      <td>2959.913</td>\n",
       "      <td>4.617</td>\n",
       "      <td>1268.211</td>\n",
       "      <td>106.693</td>\n",
       "      <td>68.564</td>\n",
       "      <td>74.251</td>\n",
       "      <td>298.633</td>\n",
       "      <td>12.444</td>\n",
       "      <td>360.860</td>\n",
       "      <td>1</td>\n",
       "    </tr>\n",
       "    <tr>\n",
       "      <th>1</th>\n",
       "      <td>1</td>\n",
       "      <td>199.472</td>\n",
       "      <td>1424.950</td>\n",
       "      <td>-1.784</td>\n",
       "      <td>976.705</td>\n",
       "      <td>87.557</td>\n",
       "      <td>65.592</td>\n",
       "      <td>41.737</td>\n",
       "      <td>407.442</td>\n",
       "      <td>16.293</td>\n",
       "      <td>270.507</td>\n",
       "      <td>2</td>\n",
       "    </tr>\n",
       "    <tr>\n",
       "      <th>2</th>\n",
       "      <td>1</td>\n",
       "      <td>325.112</td>\n",
       "      <td>991.396</td>\n",
       "      <td>-0.435</td>\n",
       "      <td>996.661</td>\n",
       "      <td>123.843</td>\n",
       "      <td>57.359</td>\n",
       "      <td>42.892</td>\n",
       "      <td>438.320</td>\n",
       "      <td>28.228</td>\n",
       "      <td>232.537</td>\n",
       "      <td>1</td>\n",
       "    </tr>\n",
       "    <tr>\n",
       "      <th>3</th>\n",
       "      <td>1</td>\n",
       "      <td>196.999</td>\n",
       "      <td>1446.165</td>\n",
       "      <td>3.554</td>\n",
       "      <td>1067.007</td>\n",
       "      <td>116.166</td>\n",
       "      <td>58.857</td>\n",
       "      <td>37.111</td>\n",
       "      <td>199.610</td>\n",
       "      <td>28.187</td>\n",
       "      <td>363.876</td>\n",
       "      <td>1</td>\n",
       "    </tr>\n",
       "    <tr>\n",
       "      <th>4</th>\n",
       "      <td>1</td>\n",
       "      <td>289.603</td>\n",
       "      <td>2041.470</td>\n",
       "      <td>-1.648</td>\n",
       "      <td>966.763</td>\n",
       "      <td>180.954</td>\n",
       "      <td>52.872</td>\n",
       "      <td>68.329</td>\n",
       "      <td>248.039</td>\n",
       "      <td>11.964</td>\n",
       "      <td>292.587</td>\n",
       "      <td>1</td>\n",
       "    </tr>\n",
       "  </tbody>\n",
       "</table>\n",
       "</div>"
      ],
      "text/plain": [
       "   Control    THBS3   SLC38A2     XG      DDR1    CCNB1  ZNF496    CRYM  \\\n",
       "0        1  368.721  2959.913  4.617  1268.211  106.693  68.564  74.251   \n",
       "1        1  199.472  1424.950 -1.784   976.705   87.557  65.592  41.737   \n",
       "2        1  325.112   991.396 -0.435   996.661  123.843  57.359  42.892   \n",
       "3        1  196.999  1446.165  3.554  1067.007  116.166  58.857  37.111   \n",
       "4        1  289.603  2041.470 -1.648   966.763  180.954  52.872  68.329   \n",
       "\n",
       "      SCIN    APOH    SMAD7  Gender  \n",
       "0  298.633  12.444  360.860       1  \n",
       "1  407.442  16.293  270.507       2  \n",
       "2  438.320  28.228  232.537       1  \n",
       "3  199.610  28.187  363.876       1  \n",
       "4  248.039  11.964  292.587       1  "
      ]
     },
     "execution_count": 283,
     "metadata": {},
     "output_type": "execute_result"
    }
   ],
   "source": [
    "df_gen = pd.read_excel('HD_Genes.xlsx')\n",
    "df_gen.head()\n",
    "\n"
   ]
  },
  {
   "cell_type": "markdown",
   "id": "8f0ee736",
   "metadata": {},
   "source": [
    "### Null hypothesis:\n",
    "- The genes not significantly dysregulated in HD.\n",
    "\n",
    "### Variables:\n",
    "- TODO"
   ]
  },
  {
   "cell_type": "markdown",
   "id": "95a7e612",
   "metadata": {},
   "source": [
    "### Descriptive Statistics"
   ]
  },
  {
   "cell_type": "code",
   "execution_count": 284,
   "id": "727452ee",
   "metadata": {},
   "outputs": [
    {
     "data": {
      "text/html": [
       "<div>\n",
       "<style scoped>\n",
       "    .dataframe tbody tr th:only-of-type {\n",
       "        vertical-align: middle;\n",
       "    }\n",
       "\n",
       "    .dataframe tbody tr th {\n",
       "        vertical-align: top;\n",
       "    }\n",
       "\n",
       "    .dataframe thead th {\n",
       "        text-align: right;\n",
       "    }\n",
       "</style>\n",
       "<table border=\"1\" class=\"dataframe\">\n",
       "  <thead>\n",
       "    <tr style=\"text-align: right;\">\n",
       "      <th></th>\n",
       "      <th>Control</th>\n",
       "      <th>THBS3</th>\n",
       "      <th>SLC38A2</th>\n",
       "      <th>XG</th>\n",
       "      <th>DDR1</th>\n",
       "      <th>CCNB1</th>\n",
       "      <th>ZNF496</th>\n",
       "      <th>CRYM</th>\n",
       "      <th>SCIN</th>\n",
       "      <th>APOH</th>\n",
       "      <th>SMAD7</th>\n",
       "      <th>Gender</th>\n",
       "    </tr>\n",
       "  </thead>\n",
       "  <tbody>\n",
       "    <tr>\n",
       "      <th>count</th>\n",
       "      <td>20.000000</td>\n",
       "      <td>20.000000</td>\n",
       "      <td>20.000000</td>\n",
       "      <td>20.000000</td>\n",
       "      <td>20.000000</td>\n",
       "      <td>20.000000</td>\n",
       "      <td>20.000000</td>\n",
       "      <td>20.000000</td>\n",
       "      <td>20.00000</td>\n",
       "      <td>20.000000</td>\n",
       "      <td>20.000000</td>\n",
       "      <td>20.000000</td>\n",
       "    </tr>\n",
       "    <tr>\n",
       "      <th>mean</th>\n",
       "      <td>1.500000</td>\n",
       "      <td>252.090700</td>\n",
       "      <td>2710.555850</td>\n",
       "      <td>4.098450</td>\n",
       "      <td>1892.170000</td>\n",
       "      <td>100.740550</td>\n",
       "      <td>56.417350</td>\n",
       "      <td>52.028950</td>\n",
       "      <td>381.92530</td>\n",
       "      <td>19.905600</td>\n",
       "      <td>328.509200</td>\n",
       "      <td>1.250000</td>\n",
       "    </tr>\n",
       "    <tr>\n",
       "      <th>std</th>\n",
       "      <td>0.512989</td>\n",
       "      <td>96.600241</td>\n",
       "      <td>2341.287248</td>\n",
       "      <td>5.308168</td>\n",
       "      <td>997.635304</td>\n",
       "      <td>34.376723</td>\n",
       "      <td>17.055103</td>\n",
       "      <td>16.284804</td>\n",
       "      <td>165.93226</td>\n",
       "      <td>8.307898</td>\n",
       "      <td>109.993647</td>\n",
       "      <td>0.444262</td>\n",
       "    </tr>\n",
       "    <tr>\n",
       "      <th>min</th>\n",
       "      <td>1.000000</td>\n",
       "      <td>115.921000</td>\n",
       "      <td>991.396000</td>\n",
       "      <td>-2.387000</td>\n",
       "      <td>794.111000</td>\n",
       "      <td>56.710000</td>\n",
       "      <td>34.267000</td>\n",
       "      <td>29.711000</td>\n",
       "      <td>183.07400</td>\n",
       "      <td>-0.339000</td>\n",
       "      <td>180.450000</td>\n",
       "      <td>1.000000</td>\n",
       "    </tr>\n",
       "    <tr>\n",
       "      <th>25%</th>\n",
       "      <td>1.000000</td>\n",
       "      <td>185.788500</td>\n",
       "      <td>1463.722500</td>\n",
       "      <td>-0.701500</td>\n",
       "      <td>1049.420500</td>\n",
       "      <td>70.833000</td>\n",
       "      <td>42.455500</td>\n",
       "      <td>40.595750</td>\n",
       "      <td>277.18225</td>\n",
       "      <td>15.026250</td>\n",
       "      <td>237.042250</td>\n",
       "      <td>1.000000</td>\n",
       "    </tr>\n",
       "    <tr>\n",
       "      <th>50%</th>\n",
       "      <td>1.500000</td>\n",
       "      <td>203.068000</td>\n",
       "      <td>2009.894500</td>\n",
       "      <td>4.069000</td>\n",
       "      <td>1534.623000</td>\n",
       "      <td>96.497500</td>\n",
       "      <td>57.835500</td>\n",
       "      <td>46.823000</td>\n",
       "      <td>366.57600</td>\n",
       "      <td>19.494500</td>\n",
       "      <td>283.870500</td>\n",
       "      <td>1.000000</td>\n",
       "    </tr>\n",
       "    <tr>\n",
       "      <th>75%</th>\n",
       "      <td>2.000000</td>\n",
       "      <td>332.552750</td>\n",
       "      <td>2766.206750</td>\n",
       "      <td>7.070750</td>\n",
       "      <td>2879.945500</td>\n",
       "      <td>122.931750</td>\n",
       "      <td>66.335000</td>\n",
       "      <td>64.365250</td>\n",
       "      <td>437.20250</td>\n",
       "      <td>26.051500</td>\n",
       "      <td>381.979500</td>\n",
       "      <td>1.250000</td>\n",
       "    </tr>\n",
       "    <tr>\n",
       "      <th>max</th>\n",
       "      <td>2.000000</td>\n",
       "      <td>412.181000</td>\n",
       "      <td>11624.447000</td>\n",
       "      <td>14.312000</td>\n",
       "      <td>3880.899000</td>\n",
       "      <td>180.954000</td>\n",
       "      <td>101.746000</td>\n",
       "      <td>81.787000</td>\n",
       "      <td>938.37800</td>\n",
       "      <td>34.078000</td>\n",
       "      <td>552.254000</td>\n",
       "      <td>2.000000</td>\n",
       "    </tr>\n",
       "  </tbody>\n",
       "</table>\n",
       "</div>"
      ],
      "text/plain": [
       "         Control       THBS3       SLC38A2         XG         DDR1  \\\n",
       "count  20.000000   20.000000     20.000000  20.000000    20.000000   \n",
       "mean    1.500000  252.090700   2710.555850   4.098450  1892.170000   \n",
       "std     0.512989   96.600241   2341.287248   5.308168   997.635304   \n",
       "min     1.000000  115.921000    991.396000  -2.387000   794.111000   \n",
       "25%     1.000000  185.788500   1463.722500  -0.701500  1049.420500   \n",
       "50%     1.500000  203.068000   2009.894500   4.069000  1534.623000   \n",
       "75%     2.000000  332.552750   2766.206750   7.070750  2879.945500   \n",
       "max     2.000000  412.181000  11624.447000  14.312000  3880.899000   \n",
       "\n",
       "            CCNB1      ZNF496       CRYM       SCIN       APOH       SMAD7  \\\n",
       "count   20.000000   20.000000  20.000000   20.00000  20.000000   20.000000   \n",
       "mean   100.740550   56.417350  52.028950  381.92530  19.905600  328.509200   \n",
       "std     34.376723   17.055103  16.284804  165.93226   8.307898  109.993647   \n",
       "min     56.710000   34.267000  29.711000  183.07400  -0.339000  180.450000   \n",
       "25%     70.833000   42.455500  40.595750  277.18225  15.026250  237.042250   \n",
       "50%     96.497500   57.835500  46.823000  366.57600  19.494500  283.870500   \n",
       "75%    122.931750   66.335000  64.365250  437.20250  26.051500  381.979500   \n",
       "max    180.954000  101.746000  81.787000  938.37800  34.078000  552.254000   \n",
       "\n",
       "          Gender  \n",
       "count  20.000000  \n",
       "mean    1.250000  \n",
       "std     0.444262  \n",
       "min     1.000000  \n",
       "25%     1.000000  \n",
       "50%     1.000000  \n",
       "75%     1.250000  \n",
       "max     2.000000  "
      ]
     },
     "execution_count": 284,
     "metadata": {},
     "output_type": "execute_result"
    }
   ],
   "source": [
    "df_gen.describe()"
   ]
  },
  {
   "cell_type": "code",
   "execution_count": 285,
   "id": "4853ca6e",
   "metadata": {},
   "outputs": [
    {
     "name": "stdout",
     "output_type": "stream",
     "text": [
      "Skweness \n",
      " [ 0.          0.29771238  3.19161633  0.50506059  0.77113348  0.89545916\n",
      "  0.81254944  0.49932911  1.98783431 -0.29647705  0.72990073  1.2505143 ]\n",
      "\n",
      "Kurtosis \n",
      " Control    -2.235294\n",
      "THBS3      -1.344473\n",
      "SLC38A2    11.791027\n",
      "XG         -0.828231\n",
      "DDR1       -0.865264\n",
      "CCNB1       0.462941\n",
      "ZNF496      1.031703\n",
      "CRYM       -0.903736\n",
      "SCIN        6.087680\n",
      "APOH        0.548852\n",
      "SMAD7      -0.667726\n",
      "Gender     -0.496732\n",
      "dtype: float64\n"
     ]
    }
   ],
   "source": [
    "sk = s.skew(df_gen, bias=False)\n",
    "print('Skweness \\n',sk)\n",
    "print('\\nKurtosis \\n',df_gen.kurtosis())"
   ]
  },
  {
   "cell_type": "markdown",
   "id": "7e474253",
   "metadata": {},
   "source": [
    "### Converting to log scale"
   ]
  },
  {
   "cell_type": "code",
   "execution_count": 286,
   "id": "115f9ecf",
   "metadata": {},
   "outputs": [
    {
     "name": "stderr",
     "output_type": "stream",
     "text": [
      "/Users/priyesh/opt/anaconda3/lib/python3.9/site-packages/pandas/core/internals/blocks.py:402: RuntimeWarning: invalid value encountered in log\n",
      "  result = func(self.values, **kwargs)\n"
     ]
    },
    {
     "data": {
      "text/html": [
       "<div>\n",
       "<style scoped>\n",
       "    .dataframe tbody tr th:only-of-type {\n",
       "        vertical-align: middle;\n",
       "    }\n",
       "\n",
       "    .dataframe tbody tr th {\n",
       "        vertical-align: top;\n",
       "    }\n",
       "\n",
       "    .dataframe thead th {\n",
       "        text-align: right;\n",
       "    }\n",
       "</style>\n",
       "<table border=\"1\" class=\"dataframe\">\n",
       "  <thead>\n",
       "    <tr style=\"text-align: right;\">\n",
       "      <th></th>\n",
       "      <th>Control</th>\n",
       "      <th>THBS3</th>\n",
       "      <th>SLC38A2</th>\n",
       "      <th>XG</th>\n",
       "      <th>DDR1</th>\n",
       "      <th>CCNB1</th>\n",
       "      <th>ZNF496</th>\n",
       "      <th>CRYM</th>\n",
       "      <th>SCIN</th>\n",
       "      <th>APOH</th>\n",
       "      <th>SMAD7</th>\n",
       "      <th>Gender</th>\n",
       "    </tr>\n",
       "  </thead>\n",
       "  <tbody>\n",
       "    <tr>\n",
       "      <th>0</th>\n",
       "      <td>0.0</td>\n",
       "      <td>5.910040</td>\n",
       "      <td>7.992915</td>\n",
       "      <td>1.529745</td>\n",
       "      <td>7.145363</td>\n",
       "      <td>4.669956</td>\n",
       "      <td>4.227768</td>\n",
       "      <td>4.307451</td>\n",
       "      <td>5.699215</td>\n",
       "      <td>2.521239</td>\n",
       "      <td>5.888490</td>\n",
       "      <td>0.000000</td>\n",
       "    </tr>\n",
       "    <tr>\n",
       "      <th>1</th>\n",
       "      <td>0.0</td>\n",
       "      <td>5.295674</td>\n",
       "      <td>7.261892</td>\n",
       "      <td>NaN</td>\n",
       "      <td>6.884185</td>\n",
       "      <td>4.472290</td>\n",
       "      <td>4.183454</td>\n",
       "      <td>3.731388</td>\n",
       "      <td>6.009899</td>\n",
       "      <td>2.790736</td>\n",
       "      <td>5.600298</td>\n",
       "      <td>0.693147</td>\n",
       "    </tr>\n",
       "    <tr>\n",
       "      <th>2</th>\n",
       "      <td>0.0</td>\n",
       "      <td>5.784170</td>\n",
       "      <td>6.899114</td>\n",
       "      <td>NaN</td>\n",
       "      <td>6.904411</td>\n",
       "      <td>4.819015</td>\n",
       "      <td>4.049330</td>\n",
       "      <td>3.758685</td>\n",
       "      <td>6.082949</td>\n",
       "      <td>3.340314</td>\n",
       "      <td>5.449049</td>\n",
       "      <td>0.000000</td>\n",
       "    </tr>\n",
       "    <tr>\n",
       "      <th>3</th>\n",
       "      <td>0.0</td>\n",
       "      <td>5.283199</td>\n",
       "      <td>7.276671</td>\n",
       "      <td>1.268074</td>\n",
       "      <td>6.972613</td>\n",
       "      <td>4.755020</td>\n",
       "      <td>4.075111</td>\n",
       "      <td>3.613913</td>\n",
       "      <td>5.296365</td>\n",
       "      <td>3.338861</td>\n",
       "      <td>5.896813</td>\n",
       "      <td>0.000000</td>\n",
       "    </tr>\n",
       "    <tr>\n",
       "      <th>4</th>\n",
       "      <td>0.0</td>\n",
       "      <td>5.668511</td>\n",
       "      <td>7.621425</td>\n",
       "      <td>NaN</td>\n",
       "      <td>6.873953</td>\n",
       "      <td>5.198243</td>\n",
       "      <td>3.967874</td>\n",
       "      <td>4.224334</td>\n",
       "      <td>5.513586</td>\n",
       "      <td>2.481902</td>\n",
       "      <td>5.678762</td>\n",
       "      <td>0.000000</td>\n",
       "    </tr>\n",
       "  </tbody>\n",
       "</table>\n",
       "</div>"
      ],
      "text/plain": [
       "   Control     THBS3   SLC38A2        XG      DDR1     CCNB1    ZNF496  \\\n",
       "0      0.0  5.910040  7.992915  1.529745  7.145363  4.669956  4.227768   \n",
       "1      0.0  5.295674  7.261892       NaN  6.884185  4.472290  4.183454   \n",
       "2      0.0  5.784170  6.899114       NaN  6.904411  4.819015  4.049330   \n",
       "3      0.0  5.283199  7.276671  1.268074  6.972613  4.755020  4.075111   \n",
       "4      0.0  5.668511  7.621425       NaN  6.873953  5.198243  3.967874   \n",
       "\n",
       "       CRYM      SCIN      APOH     SMAD7    Gender  \n",
       "0  4.307451  5.699215  2.521239  5.888490  0.000000  \n",
       "1  3.731388  6.009899  2.790736  5.600298  0.693147  \n",
       "2  3.758685  6.082949  3.340314  5.449049  0.000000  \n",
       "3  3.613913  5.296365  3.338861  5.896813  0.000000  \n",
       "4  4.224334  5.513586  2.481902  5.678762  0.000000  "
      ]
     },
     "execution_count": 286,
     "metadata": {},
     "output_type": "execute_result"
    }
   ],
   "source": [
    "df_gen_log = np.log(df_gen)\n",
    "df_gen_log.head()\n"
   ]
  },
  {
   "cell_type": "code",
   "execution_count": 287,
   "id": "3ea73040",
   "metadata": {},
   "outputs": [
    {
     "data": {
      "text/html": [
       "<div>\n",
       "<style scoped>\n",
       "    .dataframe tbody tr th:only-of-type {\n",
       "        vertical-align: middle;\n",
       "    }\n",
       "\n",
       "    .dataframe tbody tr th {\n",
       "        vertical-align: top;\n",
       "    }\n",
       "\n",
       "    .dataframe thead th {\n",
       "        text-align: right;\n",
       "    }\n",
       "</style>\n",
       "<table border=\"1\" class=\"dataframe\">\n",
       "  <thead>\n",
       "    <tr style=\"text-align: right;\">\n",
       "      <th></th>\n",
       "      <th>Control</th>\n",
       "      <th>THBS3</th>\n",
       "      <th>SLC38A2</th>\n",
       "      <th>XG</th>\n",
       "      <th>DDR1</th>\n",
       "      <th>CCNB1</th>\n",
       "      <th>ZNF496</th>\n",
       "      <th>CRYM</th>\n",
       "      <th>SCIN</th>\n",
       "      <th>APOH</th>\n",
       "      <th>SMAD7</th>\n",
       "      <th>Gender</th>\n",
       "    </tr>\n",
       "  </thead>\n",
       "  <tbody>\n",
       "    <tr>\n",
       "      <th>count</th>\n",
       "      <td>20.000000</td>\n",
       "      <td>20.000000</td>\n",
       "      <td>20.000000</td>\n",
       "      <td>12.000000</td>\n",
       "      <td>20.000000</td>\n",
       "      <td>20.000000</td>\n",
       "      <td>20.000000</td>\n",
       "      <td>20.000000</td>\n",
       "      <td>20.000000</td>\n",
       "      <td>19.000000</td>\n",
       "      <td>20.000000</td>\n",
       "      <td>20.000000</td>\n",
       "    </tr>\n",
       "    <tr>\n",
       "      <th>mean</th>\n",
       "      <td>0.346574</td>\n",
       "      <td>5.456414</td>\n",
       "      <td>7.704624</td>\n",
       "      <td>1.921395</td>\n",
       "      <td>7.418984</td>\n",
       "      <td>4.560394</td>\n",
       "      <td>3.990835</td>\n",
       "      <td>3.905642</td>\n",
       "      <td>5.871279</td>\n",
       "      <td>2.990211</td>\n",
       "      <td>5.744063</td>\n",
       "      <td>0.173287</td>\n",
       "    </tr>\n",
       "    <tr>\n",
       "      <th>std</th>\n",
       "      <td>0.355577</td>\n",
       "      <td>0.399253</td>\n",
       "      <td>0.584139</td>\n",
       "      <td>0.492506</td>\n",
       "      <td>0.510960</td>\n",
       "      <td>0.328435</td>\n",
       "      <td>0.296511</td>\n",
       "      <td>0.312034</td>\n",
       "      <td>0.384500</td>\n",
       "      <td>0.335718</td>\n",
       "      <td>0.322493</td>\n",
       "      <td>0.307939</td>\n",
       "    </tr>\n",
       "    <tr>\n",
       "      <th>min</th>\n",
       "      <td>0.000000</td>\n",
       "      <td>4.752909</td>\n",
       "      <td>6.899114</td>\n",
       "      <td>1.238084</td>\n",
       "      <td>6.677223</td>\n",
       "      <td>4.037951</td>\n",
       "      <td>3.534183</td>\n",
       "      <td>3.391517</td>\n",
       "      <td>5.209890</td>\n",
       "      <td>2.481902</td>\n",
       "      <td>5.195454</td>\n",
       "      <td>0.000000</td>\n",
       "    </tr>\n",
       "    <tr>\n",
       "      <th>25%</th>\n",
       "      <td>0.000000</td>\n",
       "      <td>5.224554</td>\n",
       "      <td>7.288714</td>\n",
       "      <td>1.527952</td>\n",
       "      <td>6.955562</td>\n",
       "      <td>4.260038</td>\n",
       "      <td>3.747302</td>\n",
       "      <td>3.702430</td>\n",
       "      <td>5.624669</td>\n",
       "      <td>2.769868</td>\n",
       "      <td>5.468232</td>\n",
       "      <td>0.000000</td>\n",
       "    </tr>\n",
       "    <tr>\n",
       "      <th>50%</th>\n",
       "      <td>0.346574</td>\n",
       "      <td>5.313384</td>\n",
       "      <td>7.605714</td>\n",
       "      <td>1.906260</td>\n",
       "      <td>7.335465</td>\n",
       "      <td>4.568425</td>\n",
       "      <td>4.057569</td>\n",
       "      <td>3.846136</td>\n",
       "      <td>5.902887</td>\n",
       "      <td>3.014014</td>\n",
       "      <td>5.648046</td>\n",
       "      <td>0.000000</td>\n",
       "    </tr>\n",
       "    <tr>\n",
       "      <th>75%</th>\n",
       "      <td>0.693147</td>\n",
       "      <td>5.806069</td>\n",
       "      <td>7.924439</td>\n",
       "      <td>2.359191</td>\n",
       "      <td>7.965506</td>\n",
       "      <td>4.811620</td>\n",
       "      <td>4.194532</td>\n",
       "      <td>4.163958</td>\n",
       "      <td>6.080395</td>\n",
       "      <td>3.265919</td>\n",
       "      <td>5.943701</td>\n",
       "      <td>0.173287</td>\n",
       "    </tr>\n",
       "    <tr>\n",
       "      <th>max</th>\n",
       "      <td>0.693147</td>\n",
       "      <td>6.021463</td>\n",
       "      <td>9.360866</td>\n",
       "      <td>2.661098</td>\n",
       "      <td>8.263822</td>\n",
       "      <td>5.198243</td>\n",
       "      <td>4.622480</td>\n",
       "      <td>4.404118</td>\n",
       "      <td>6.844153</td>\n",
       "      <td>3.528652</td>\n",
       "      <td>6.314008</td>\n",
       "      <td>0.693147</td>\n",
       "    </tr>\n",
       "  </tbody>\n",
       "</table>\n",
       "</div>"
      ],
      "text/plain": [
       "         Control      THBS3    SLC38A2         XG       DDR1      CCNB1  \\\n",
       "count  20.000000  20.000000  20.000000  12.000000  20.000000  20.000000   \n",
       "mean    0.346574   5.456414   7.704624   1.921395   7.418984   4.560394   \n",
       "std     0.355577   0.399253   0.584139   0.492506   0.510960   0.328435   \n",
       "min     0.000000   4.752909   6.899114   1.238084   6.677223   4.037951   \n",
       "25%     0.000000   5.224554   7.288714   1.527952   6.955562   4.260038   \n",
       "50%     0.346574   5.313384   7.605714   1.906260   7.335465   4.568425   \n",
       "75%     0.693147   5.806069   7.924439   2.359191   7.965506   4.811620   \n",
       "max     0.693147   6.021463   9.360866   2.661098   8.263822   5.198243   \n",
       "\n",
       "          ZNF496       CRYM       SCIN       APOH      SMAD7     Gender  \n",
       "count  20.000000  20.000000  20.000000  19.000000  20.000000  20.000000  \n",
       "mean    3.990835   3.905642   5.871279   2.990211   5.744063   0.173287  \n",
       "std     0.296511   0.312034   0.384500   0.335718   0.322493   0.307939  \n",
       "min     3.534183   3.391517   5.209890   2.481902   5.195454   0.000000  \n",
       "25%     3.747302   3.702430   5.624669   2.769868   5.468232   0.000000  \n",
       "50%     4.057569   3.846136   5.902887   3.014014   5.648046   0.000000  \n",
       "75%     4.194532   4.163958   6.080395   3.265919   5.943701   0.173287  \n",
       "max     4.622480   4.404118   6.844153   3.528652   6.314008   0.693147  "
      ]
     },
     "execution_count": 287,
     "metadata": {},
     "output_type": "execute_result"
    }
   ],
   "source": [
    "df_gen_log.describe()"
   ]
  },
  {
   "cell_type": "code",
   "execution_count": 288,
   "id": "48c47e84",
   "metadata": {},
   "outputs": [
    {
     "data": {
      "text/plain": [
       "Text(0, 0.5, 'Mean')"
      ]
     },
     "execution_count": 288,
     "metadata": {},
     "output_type": "execute_result"
    },
    {
     "data": {
      "image/png": "[encoded data removed]",
      "text/plain": [
       "<Figure size 2000x1000 with 1 Axes>"
      ]
     },
     "metadata": {},
     "output_type": "display_data"
    }
   ],
   "source": [
    "labels = ['THBS3','SLC38A2','XG','DDR1','CCNB1','ZNF496','CRYM','SCIN','APOH','SMAD7']\n",
    "plt.figure(figsize=(20, 10))\n",
    "plt.plot(labels, df_gen_log[labels].mean())\n",
    "\n",
    "plt.ylabel('Mean')\n"
   ]
  },
  {
   "cell_type": "code",
   "execution_count": 289,
   "id": "eb37b7b5",
   "metadata": {},
   "outputs": [
    {
     "data": {
      "text/plain": [
       "<AxesSubplot:>"
      ]
     },
     "execution_count": 289,
     "metadata": {},
     "output_type": "execute_result"
    },
    {
     "data": {
      "image/png": "[encoded data removed]",
      "text/plain": [
       "<Figure size 640x480 with 1 Axes>"
      ]
     },
     "metadata": {},
     "output_type": "display_data"
    }
   ],
   "source": [
    "# Checking for null values\n",
    "sns.heatmap(df_gen_log.isnull(),yticklabels=False,cbar=False,cmap='viridis')"
   ]
  },
  {
   "cell_type": "code",
   "execution_count": 290,
   "id": "923a5d1f",
   "metadata": {},
   "outputs": [],
   "source": [
    "# Removing null values\n",
    "df_gen_log_na = df_gen_log.dropna()"
   ]
  },
  {
   "cell_type": "markdown",
   "id": "5a911505",
   "metadata": {},
   "source": [
    "### Hypothesis Testing\n",
    "\n",
    "As we more than 2 groups. Therefore, we will use One-way ANOVA.\n"
   ]
  },
  {
   "cell_type": "code",
   "execution_count": 291,
   "id": "a986baf3",
   "metadata": {},
   "outputs": [
    {
     "name": "stdout",
     "output_type": "stream",
     "text": [
      "F_onewayResult(statistic=223.2789060876044, pvalue=4.6342551129625065e-62)\n"
     ]
    }
   ],
   "source": [
    "anova2 = s.f_oneway(\n",
    "                  df_gen_log_na['THBS3'], \n",
    "                  df_gen_log_na['SLC38A2'],\n",
    "                  df_gen_log_na['XG'],\n",
    "                  df_gen_log_na['DDR1'],\n",
    "                  df_gen_log_na['CCNB1'],\n",
    "                  df_gen_log_na['ZNF496'],\n",
    "                  df_gen_log_na['CRYM'],\n",
    "                  df_gen_log_na['SCIN'],\n",
    "                  df_gen_log_na['APOH'],\n",
    "                  df_gen_log_na['SMAD7'])\n",
    "\n",
    "print(anova2)"
   ]
  },
  {
   "cell_type": "markdown",
   "id": "b0cf0941",
   "metadata": {},
   "source": [
    "### Result\n",
    "#### As the pvalue= 4.6342551129625065e-62 is  less than 0.05 therefore we can say that result is statistically significant. Therefore we can reject the null hypothesis \"The genes not significantly dysregulated in HD.\"\n",
    "\n",
    "#### Hence the genes are significantly regulated"
   ]
  },
  {
   "cell_type": "code",
   "execution_count": null,
   "id": "f16825a7",
   "metadata": {},
   "outputs": [],
   "source": []
  }
 ],
 "metadata": {
  "kernelspec": {
   "display_name": "Python 3 (ipykernel)",
   "language": "python",
   "name": "python3"
  },
  "language_info": {
   "codemirror_mode": {
    "name": "ipython",
    "version": 3
   },
   "file_extension": ".py",
   "mimetype": "text/x-python",
   "name": "python",
   "nbconvert_exporter": "python",
   "pygments_lexer": "ipython3",
   "version": "3.9.13"
  }
 },
 "nbformat": 4,
 "nbformat_minor": 5
}
